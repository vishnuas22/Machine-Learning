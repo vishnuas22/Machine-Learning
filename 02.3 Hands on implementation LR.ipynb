{
 "cells": [
  {
   "cell_type": "code",
   "execution_count": 10,
   "metadata": {},
   "outputs": [
    {
     "name": "stdout",
     "output_type": "stream",
     "text": [
      "\n",
      "Final Parameters : w : 0.6200, b: 0.1800\n"
     ]
    }
   ],
   "source": [
    "import numpy as np\n",
    "\n",
    "\n",
    "# Example data: x (feature) and y (target)\n",
    "x = np.array([1, 2, 3, 4, 5])\n",
    "y = np.array([5, 7, 9, 11, 13])\n",
    "\n",
    "\n",
    "w = 0.0 # weight\n",
    "b = 0.0 # bias\n",
    "learning_rate = 0.01\n",
    "epochs = 1000\n",
    "\n",
    "n = len(x)\n",
    "\n",
    "# Gradient Descent\n",
    "\n",
    "for epoch in range(epochs):\n",
    "\n",
    "    y_pred = w * x + b\n",
    "\n",
    "    # Gradients\n",
    "\n",
    "    dw = -(2/n) * np.sum((y-y_pred) * x)\n",
    "\n",
    "    db = -(2/n) * np.sum(y-y_pred)\n",
    "\n",
    "# update parameters\n",
    "\n",
    "w -= learning_rate * dw\n",
    "b -= learning_rate * db\n",
    "\n",
    "# print loss every 100 epochs\n",
    "\n",
    "if epoch % 10 == 0:\n",
    "    loss = np.mean((y-y_pred) ** 2)\n",
    "\n",
    "    print(f\"Epoch : {epoch}, Loss : {loss :.4f}, w : {w:.4f}, b : {b:.4f}\")\n",
    "\n",
    "print(f\"\\nFinal Parameters : w : {w:.4f}, b: {b:.4f}\")"
   ]
  }
 ],
 "metadata": {
  "kernelspec": {
   "display_name": "masterxml",
   "language": "python",
   "name": "python3"
  },
  "language_info": {
   "codemirror_mode": {
    "name": "ipython",
    "version": 3
   },
   "file_extension": ".py",
   "mimetype": "text/x-python",
   "name": "python",
   "nbconvert_exporter": "python",
   "pygments_lexer": "ipython3",
   "version": "3.10.16"
  }
 },
 "nbformat": 4,
 "nbformat_minor": 2
}
