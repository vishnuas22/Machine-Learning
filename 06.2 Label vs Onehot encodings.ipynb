{
 "cells": [
  {
   "cell_type": "code",
   "execution_count": 42,
   "metadata": {},
   "outputs": [],
   "source": [
    "import pandas as pd\n",
    "from sklearn.preprocessing import OneHotEncoder, LabelEncoder\n"
   ]
  },
  {
   "cell_type": "code",
   "execution_count": 43,
   "metadata": {},
   "outputs": [],
   "source": [
    "# Sample dataset\n",
    "data = {\n",
    "    \"Color\": [\"Red\", \"Blue\", \"Green\", \"Red\", \"Blue\"],\n",
    "    \"Size\": [\"S\", \"M\", \"L\", \"L\", \"S\"]\n",
    "}"
   ]
  },
  {
   "cell_type": "code",
   "execution_count": 44,
   "metadata": {},
   "outputs": [],
   "source": [
    "df = pd.DataFrame(data)\n"
   ]
  },
  {
   "cell_type": "code",
   "execution_count": 45,
   "metadata": {},
   "outputs": [],
   "source": [
    "# One-Hot Encoding\n",
    "onehot_encoder = OneHotEncoder(sparse_output=False, drop='first')  # Drop first to avoid dummy variable trap\n",
    "color_encoded = onehot_encoder.fit_transform(df[['Color']])\n",
    "color_encoded_df = pd.DataFrame(color_encoded, columns=onehot_encoder.get_feature_names_out(['Color']))"
   ]
  },
  {
   "cell_type": "code",
   "execution_count": 46,
   "metadata": {},
   "outputs": [],
   "source": [
    "# Label Encoding\n",
    "\n",
    "label_encoder = LabelEncoder()\n",
    "size_encoded = label_encoder.fit_transform(df['Size'])\n",
    "df['size_label_encoded'] = size_encoded"
   ]
  },
  {
   "cell_type": "code",
   "execution_count": 47,
   "metadata": {},
   "outputs": [],
   "source": [
    "# Merge one-hot encoded columns back\n",
    "\n",
    "df_final = pd.concat([df,color_encoded_df], axis=1)"
   ]
  },
  {
   "cell_type": "code",
   "execution_count": 48,
   "metadata": {},
   "outputs": [
    {
     "name": "stdout",
     "output_type": "stream",
     "text": [
      "Original Data:\n",
      "   Color Size  size_label_encoded\n",
      "0    Red    S                   2\n",
      "1   Blue    M                   1\n",
      "2  Green    L                   0\n",
      "3    Red    L                   0\n",
      "4   Blue    S                   2\n",
      "\n",
      "One-Hot Encoded Data:\n",
      "   Color_Green  Color_Red\n",
      "0          0.0        1.0\n",
      "1          0.0        0.0\n",
      "2          1.0        0.0\n",
      "3          0.0        1.0\n",
      "4          0.0        0.0\n",
      "\n",
      "Label Encoded 'Size' Column:\n",
      "0    2\n",
      "1    1\n",
      "2    0\n",
      "3    0\n",
      "4    2\n",
      "Name: size_label_encoded, dtype: int64\n",
      "\n",
      "Final DataFrame:\n",
      "   Color Size  size_label_encoded  Color_Green  Color_Red\n",
      "0    Red    S                   2          0.0        1.0\n",
      "1   Blue    M                   1          0.0        0.0\n",
      "2  Green    L                   0          1.0        0.0\n",
      "3    Red    L                   0          0.0        1.0\n",
      "4   Blue    S                   2          0.0        0.0\n"
     ]
    }
   ],
   "source": [
    "print(\"Original Data:\")\n",
    "print(df)\n",
    "print(\"\\nOne-Hot Encoded Data:\")\n",
    "print(color_encoded_df)\n",
    "print(\"\\nLabel Encoded 'Size' Column:\")\n",
    "print(df['size_label_encoded'])\n",
    "print(\"\\nFinal DataFrame:\")\n",
    "print(df_final)"
   ]
  },
  {
   "cell_type": "code",
   "execution_count": null,
   "metadata": {},
   "outputs": [],
   "source": []
  }
 ],
 "metadata": {
  "kernelspec": {
   "display_name": "masterxml",
   "language": "python",
   "name": "python3"
  },
  "language_info": {
   "codemirror_mode": {
    "name": "ipython",
    "version": 3
   },
   "file_extension": ".py",
   "mimetype": "text/x-python",
   "name": "python",
   "nbconvert_exporter": "python",
   "pygments_lexer": "ipython3",
   "version": "3.10.16"
  }
 },
 "nbformat": 4,
 "nbformat_minor": 2
}
