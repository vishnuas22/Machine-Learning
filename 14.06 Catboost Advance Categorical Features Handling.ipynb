{
 "cells": [
  {
   "cell_type": "code",
   "execution_count": 56,
   "metadata": {},
   "outputs": [],
   "source": [
    "import numpy as np\n",
    "\n",
    "import pandas as pd\n",
    "\n",
    "from catboost import CatBoostClassifier, Pool\n",
    "\n",
    "from sklearn.model_selection import train_test_split\n",
    "\n",
    "from sklearn.metrics import accuracy_score"
   ]
  },
  {
   "cell_type": "code",
   "execution_count": 57,
   "metadata": {},
   "outputs": [],
   "source": [
    "# Generate Synthetic Data with Categorical Features\n",
    "\n",
    "np.random.seed(42)\n",
    "\n",
    "data_size = 5000"
   ]
  },
  {
   "cell_type": "code",
   "execution_count": 58,
   "metadata": {},
   "outputs": [],
   "source": [
    "df = pd.DataFrame(\n",
    "    \n",
    "{\n",
    "\n",
    "    'City': np.random.choice(['New York', 'Los Angeles', 'Chicago', 'Houston', 'Miami'], data_size),\n",
    "    'Product': np.random.choice(['Laptop', 'Phone', 'Tablet', 'TV'], data_size),\n",
    "    'Customer_Type': np.random.choice(['Regular', 'VIP', 'Wholesale'], data_size),\n",
    "    'Age': np.random.randint(18,70, data_size),\n",
    "    'Spending_Score': np.random.randint(1, 100, data_size),\n",
    "    'Churn': np.random.choice([0, 1], data_size)  # Target variable\n",
    "\n",
    "}\n",
    " )"
   ]
  },
  {
   "cell_type": "code",
   "execution_count": 59,
   "metadata": {},
   "outputs": [],
   "source": [
    "# Split Data into Train & Test\n",
    "\n",
    "X = df.drop(columns=['Churn'])\n",
    "\n",
    "y = df['Churn']\n",
    "\n",
    "X_train, X_test, y_train, y_test = train_test_split(X,y, test_size=0.2, random_state= 42)"
   ]
  },
  {
   "cell_type": "code",
   "execution_count": 60,
   "metadata": {},
   "outputs": [],
   "source": [
    "# Identify Categorical Features (CatBoost Handles Them Natively)\n",
    "\n",
    "categorical_features = ['City', 'Product' , 'Customer_Type']"
   ]
  },
  {
   "cell_type": "code",
   "execution_count": 61,
   "metadata": {},
   "outputs": [],
   "source": [
    "#  Convert Data to CatBoost Pool (Recommended for Efficient Training)\n",
    "\n",
    "train_pool = Pool(X_train, label=y_train, cat_features=categorical_features)\n"
   ]
  },
  {
   "cell_type": "code",
   "execution_count": 62,
   "metadata": {},
   "outputs": [],
   "source": [
    "#  Train CatBoost with Categorical Features (NO NEED FOR MANUAL ENCODING)\n",
    "\n",
    "catboost_model = CatBoostClassifier(\n",
    "                iterations=500,\n",
    "                depth=6,\n",
    "                learning_rate=0.01,\n",
    "                loss_function='MultiClass',\n",
    "                verbose=100,\n",
    "                random_state=42\n",
    "                \n",
    "            )"
   ]
  },
  {
   "cell_type": "code",
   "execution_count": 63,
   "metadata": {},
   "outputs": [
    {
     "name": "stdout",
     "output_type": "stream",
     "text": [
      "0:\tlearn: 0.6931279\ttest: 0.6931485\tbest: 0.6931485 (0)\ttotal: 2.06ms\tremaining: 1.02s\n",
      "Stopped by overfitting detector  (50 iterations wait)\n",
      "\n",
      "bestTest = 0.6931200591\n",
      "bestIteration = 14\n",
      "\n",
      "Shrink model to first 15 iterations.\n"
     ]
    },
    {
     "data": {
      "text/plain": [
       "<catboost.core.CatBoostClassifier at 0x16335c4f0>"
      ]
     },
     "execution_count": 63,
     "metadata": {},
     "output_type": "execute_result"
    }
   ],
   "source": [
    "# Fitting the model\n",
    "\n",
    "catboost_model.fit(train_pool, eval_set= (X_test, y_test), early_stopping_rounds=50)"
   ]
  },
  {
   "cell_type": "code",
   "execution_count": 64,
   "metadata": {},
   "outputs": [
    {
     "name": "stdout",
     "output_type": "stream",
     "text": [
      "Model Accuracy :  0.5080\n"
     ]
    }
   ],
   "source": [
    "# Predictions & Accuracy\n",
    "\n",
    "y_pred = catboost_model.predict(X_test)\n",
    "\n",
    "accuracy = accuracy_score(y_test,y_pred)\n",
    "\n",
    "print(f\"Model Accuracy : {accuracy: .4f}\")"
   ]
  },
  {
   "cell_type": "code",
   "execution_count": 65,
   "metadata": {},
   "outputs": [],
   "source": [
    "# Compare with Label Encoding (Manual Encoding)\n",
    "\n",
    "X_encoded = X.copy()\n",
    "\n",
    "for col in categorical_features:\n",
    "\n",
    "    X_encoded[col] = X_encoded[col].astype('category').cat.codes"
   ]
  },
  {
   "cell_type": "code",
   "execution_count": 66,
   "metadata": {},
   "outputs": [],
   "source": [
    "# Train with Manual Encoded Data\n",
    "\n",
    "X_train_enc,X_test_enc,y_train,y_test = train_test_split(X_encoded, y, test_size=0.2,random_state=42)"
   ]
  },
  {
   "cell_type": "code",
   "execution_count": 67,
   "metadata": {},
   "outputs": [],
   "source": [
    "# Train Again with Encoded Data model\n",
    "\n",
    "catboost_model_enc = CatBoostClassifier(\n",
    "\n",
    "    iterations= 100,\n",
    "    depth=6,\n",
    "    learning_rate=0.1,\n",
    "    verbose=100\n",
    "    \n",
    ")"
   ]
  },
  {
   "cell_type": "code",
   "execution_count": 68,
   "metadata": {},
   "outputs": [
    {
     "name": "stdout",
     "output_type": "stream",
     "text": [
      "0:\tlearn: 0.6924016\ttest: 0.6927442\tbest: 0.6927442 (0)\ttotal: 582us\tremaining: 57.7ms\n",
      "Stopped by overfitting detector  (50 iterations wait)\n",
      "\n",
      "bestTest = 0.6925654382\n",
      "bestIteration = 10\n",
      "\n",
      "Shrink model to first 11 iterations.\n"
     ]
    },
    {
     "data": {
      "text/plain": [
       "<catboost.core.CatBoostClassifier at 0x16335edd0>"
      ]
     },
     "execution_count": 68,
     "metadata": {},
     "output_type": "execute_result"
    }
   ],
   "source": [
    "catboost_model_enc.fit(X_train_enc,y_train , eval_set=[(X_test_enc,y_test)],early_stopping_rounds=50)"
   ]
  },
  {
   "cell_type": "code",
   "execution_count": 69,
   "metadata": {},
   "outputs": [
    {
     "name": "stdout",
     "output_type": "stream",
     "text": [
      "Accuracy with Manual Encoding: 0.5150\n"
     ]
    }
   ],
   "source": [
    "y_pred_enc = catboost_model_enc.predict(X_test_enc)\n",
    "\n",
    "accuracy_enc = accuracy_score(y_test, y_pred_enc)\n",
    "\n",
    "print(f\"Accuracy with Manual Encoding: {accuracy_enc:.4f}\")\n"
   ]
  },
  {
   "cell_type": "code",
   "execution_count": 70,
   "metadata": {},
   "outputs": [
    {
     "name": "stdout",
     "output_type": "stream",
     "text": [
      "Native CatBoost Encoding Accuracy: 0.5080\n",
      "Label Encoding Accuracy: 0.5150\n"
     ]
    }
   ],
   "source": [
    "#  Compare Performance\n",
    "\n",
    "print(f\"Native CatBoost Encoding Accuracy: {accuracy:.4f}\")\n",
    "print(f\"Label Encoding Accuracy: {accuracy_enc:.4f}\")"
   ]
  }
 ],
 "metadata": {
  "kernelspec": {
   "display_name": "masterxml",
   "language": "python",
   "name": "python3"
  },
  "language_info": {
   "codemirror_mode": {
    "name": "ipython",
    "version": 3
   },
   "file_extension": ".py",
   "mimetype": "text/x-python",
   "name": "python",
   "nbconvert_exporter": "python",
   "pygments_lexer": "ipython3",
   "version": "3.10.16"
  }
 },
 "nbformat": 4,
 "nbformat_minor": 2
}
