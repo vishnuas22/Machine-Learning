{
 "cells": [
  {
   "cell_type": "code",
   "execution_count": 3,
   "metadata": {},
   "outputs": [],
   "source": [
    "import numpy as np\n",
    "\n",
    "import pandas as pd\n",
    "\n",
    "import matplotlib.pyplot as plt\n",
    "\n",
    "from sklearn.model_selection import train_test_split\n",
    "\n",
    "from sklearn.linear_model import ElasticNet\n",
    "\n",
    "from sklearn.preprocessing import StandardScaler\n",
    "\n",
    "from sklearn.metrics import mean_squared_error\n"
   ]
  },
  {
   "cell_type": "code",
   "execution_count": 4,
   "metadata": {},
   "outputs": [
    {
     "name": "stdout",
     "output_type": "stream",
     "text": [
      "ElasticNet Regression:\n",
      "Weights (coefficients): [ 34890.12537994  58859.17390601  58859.20774437 -43881.76732801]\n",
      "Bias (intercept): [307500.]\n",
      "Mean Squared Error: 2498707217.2753496\n"
     ]
    }
   ],
   "source": [
    "# Create a simple dataset\n",
    "\n",
    "data = {\n",
    "\n",
    "    \"Size(sqft)\" : [2000, 1500, 1800, 1200, 2500],\n",
    "\n",
    "    \"Bedrooms\" : [3, 2, 3, 2, 4],  \n",
    "\n",
    "    \"Bathrooms\" : [2, 1, 2, 1, 3],\n",
    "      \n",
    "    \"Location Score\" : [8, 7, 9, 6, 10],\n",
    "     \n",
    "    \"Price ($)\": [300000, 200000, 250000, 180000, 500000] }\n",
    "\n",
    "\n",
    "# Convert to dataframe\n",
    "\n",
    "df = pd.DataFrame(data)\n",
    "\n",
    "# Seperate Features and target\n",
    "\n",
    "X = df[[\"Size(sqft)\", \"Bedrooms\", \"Bathrooms\", \"Location Score\"]]\n",
    "\n",
    "y = df[[\"Price ($)\"]]\n",
    "\n",
    "# Split the dataset into training and  testing\n",
    "\n",
    "X_train,X_test,y_train,y_test = train_test_split(X, y, test_size = 0.2 , random_state = 42 )\n",
    "\n",
    "\n",
    "# Standardize the features\n",
    "\n",
    "scaler = StandardScaler()\n",
    "\n",
    "X_train_scaled = scaler.fit_transform(X_train)\n",
    "\n",
    "X_test_scaled = scaler.transform(X_test)\n",
    "\n",
    "\n",
    "# Initialize ElasticNet model\n",
    "# alpha = regularization strength\n",
    "# l1_ratio = rho (mixing ratio between L1 and L2)\n",
    "elastic_net = ElasticNet(alpha=0.1, l1_ratio=0.5, random_state=42)\n",
    "\n",
    "# Fit the model to the training data\n",
    "elastic_net.fit(X_train_scaled,y_train)\n",
    "\n",
    "# Predict on the test set\n",
    "\n",
    "y_pred_en = elastic_net.predict(X_test_scaled)\n",
    "\n",
    "# Evaluate the model\n",
    "mse_en = mean_squared_error(y_test,y_pred_en)\n",
    "\n",
    "# Print results\n",
    "print(\"ElasticNet Regression:\")\n",
    "print(f\"Weights (coefficients): {elastic_net.coef_}\")\n",
    "print(f\"Bias (intercept): {elastic_net.intercept_}\")\n",
    "print(f\"Mean Squared Error: {mse_en}\")"
   ]
  }
 ],
 "metadata": {
  "kernelspec": {
   "display_name": "masterxml",
   "language": "python",
   "name": "python3"
  },
  "language_info": {
   "codemirror_mode": {
    "name": "ipython",
    "version": 3
   },
   "file_extension": ".py",
   "mimetype": "text/x-python",
   "name": "python",
   "nbconvert_exporter": "python",
   "pygments_lexer": "ipython3",
   "version": "3.10.16"
  }
 },
 "nbformat": 4,
 "nbformat_minor": 2
}
