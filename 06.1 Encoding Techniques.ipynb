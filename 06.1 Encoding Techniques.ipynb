{
 "cells": [
  {
   "cell_type": "code",
   "execution_count": 20,
   "metadata": {},
   "outputs": [],
   "source": [
    "import pandas as pd\n",
    "\n",
    "from sklearn.preprocessing import LabelEncoder, OneHotEncoder"
   ]
  },
  {
   "cell_type": "code",
   "execution_count": 21,
   "metadata": {},
   "outputs": [],
   "source": [
    "# Create a DataFrame\n",
    "data = {\n",
    "    \"City\": [\"New York\", \"Los Angeles\", \"New York\", \"Chicago\", \"Los Angeles\", \"Chicago\"],\n",
    "    \"Size (sqft)\": [2000, 1500, 1800, 1200, 2500, 2300],\n",
    "    \"Bedrooms\": [3, 2, 3, 2, 4, 3],\n",
    "    \"Bathrooms\": [2, 1, 2, 1, 3, 2],\n",
    "    \"Price\": [300000, 200000, 250000, 180000, 500000, 400000]\n",
    "}"
   ]
  },
  {
   "cell_type": "code",
   "execution_count": 22,
   "metadata": {},
   "outputs": [],
   "source": [
    "df = pd.DataFrame(data)"
   ]
  },
  {
   "cell_type": "code",
   "execution_count": 23,
   "metadata": {},
   "outputs": [],
   "source": [
    "label_encoder = LabelEncoder()\n",
    "df[\"City_label\"] = label_encoder.fit_transform(df[\"City\"])"
   ]
  },
  {
   "cell_type": "code",
   "execution_count": 24,
   "metadata": {},
   "outputs": [],
   "source": [
    "# One-hot Encoding\n",
    "\n",
    "df_onehot = pd.get_dummies(df, columns=[\"City\"], drop_first=True)"
   ]
  },
  {
   "cell_type": "code",
   "execution_count": 25,
   "metadata": {},
   "outputs": [],
   "source": [
    "# Target Encoding\n",
    "\n",
    "target_encoding = df.groupby(\"City\")[\"Price\"].mean().to_dict()\n",
    "df[\"City_target\"] = df[\"City\"].map(target_encoding)"
   ]
  },
  {
   "cell_type": "code",
   "execution_count": 26,
   "metadata": {},
   "outputs": [
    {
     "name": "stdout",
     "output_type": "stream",
     "text": [
      "          City  Size (sqft)  Bedrooms  ...   Price  City_label  City_target\n",
      "0     New York         2000         3  ...  300000           2     275000.0\n",
      "1  Los Angeles         1500         2  ...  200000           1     350000.0\n",
      "2     New York         1800         3  ...  250000           2     275000.0\n",
      "3      Chicago         1200         2  ...  180000           0     290000.0\n",
      "4  Los Angeles         2500         4  ...  500000           1     350000.0\n",
      "5      Chicago         2300         3  ...  400000           0     290000.0\n",
      "\n",
      "[6 rows x 7 columns]\n",
      "\n",
      "    Size (sqft)  Bedrooms  ...  City_Los Angeles  City_New York\n",
      "0         2000         3  ...             False           True\n",
      "1         1500         2  ...              True          False\n",
      "2         1800         3  ...             False           True\n",
      "3         1200         2  ...             False          False\n",
      "4         2500         4  ...              True          False\n",
      "5         2300         3  ...             False          False\n",
      "\n",
      "[6 rows x 7 columns]\n"
     ]
    }
   ],
   "source": [
    "print(df)\n",
    "print( \"\\n\",df_onehot)"
   ]
  }
 ],
 "metadata": {
  "kernelspec": {
   "display_name": "masterxml",
   "language": "python",
   "name": "python3"
  },
  "language_info": {
   "codemirror_mode": {
    "name": "ipython",
    "version": 3
   },
   "file_extension": ".py",
   "mimetype": "text/x-python",
   "name": "python",
   "nbconvert_exporter": "python",
   "pygments_lexer": "ipython3",
   "version": "3.10.16"
  }
 },
 "nbformat": 4,
 "nbformat_minor": 2
}
