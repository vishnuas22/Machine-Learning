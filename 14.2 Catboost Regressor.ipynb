{
 "cells": [
  {
   "cell_type": "code",
   "execution_count": 8,
   "metadata": {},
   "outputs": [],
   "source": [
    "import numpy as np\n",
    "\n",
    "import pandas as pd\n",
    "\n",
    "from catboost import CatBoostRegressor\n",
    "\n",
    "from sklearn.datasets import make_regression\n",
    "\n",
    "from sklearn.model_selection import train_test_split\n",
    "\n",
    "from sklearn.metrics import mean_squared_error,r2_score"
   ]
  },
  {
   "cell_type": "code",
   "execution_count": 9,
   "metadata": {},
   "outputs": [],
   "source": [
    "# Load sample classification dataset\n",
    "\n",
    "X,y = make_regression(\n",
    "    n_samples=500, \n",
    "    n_features=10, \n",
    "    noise = 10,\n",
    "    random_state=42\n",
    "    )"
   ]
  },
  {
   "cell_type": "code",
   "execution_count": 10,
   "metadata": {},
   "outputs": [],
   "source": [
    "# Split the data\n",
    "\n",
    "X_train, X_test , y_train, y_test = train_test_split(X,y, test_size=0.2, random_state=42)"
   ]
  },
  {
   "cell_type": "code",
   "execution_count": 11,
   "metadata": {},
   "outputs": [],
   "source": [
    "# Train CatBoost Classifier\n",
    "\n",
    "cat_reg = CatBoostRegressor(\n",
    "    iterations=500, \n",
    "    depth=6, \n",
    "    learning_rate=0.05, \n",
    "    verbose=100 \n",
    "    )"
   ]
  },
  {
   "cell_type": "code",
   "execution_count": 12,
   "metadata": {},
   "outputs": [
    {
     "name": "stdout",
     "output_type": "stream",
     "text": [
      "0:\tlearn: 142.9922790\ttotal: 1.61ms\tremaining: 806ms\n",
      "100:\tlearn: 34.5336299\ttotal: 76.4ms\tremaining: 302ms\n",
      "200:\tlearn: 14.0324057\ttotal: 153ms\tremaining: 228ms\n",
      "300:\tlearn: 8.5019922\ttotal: 219ms\tremaining: 145ms\n",
      "400:\tlearn: 5.9478482\ttotal: 283ms\tremaining: 69.9ms\n",
      "499:\tlearn: 4.3204343\ttotal: 345ms\tremaining: 0us\n"
     ]
    },
    {
     "data": {
      "text/plain": [
       "<catboost.core.CatBoostRegressor at 0x173422560>"
      ]
     },
     "execution_count": 12,
     "metadata": {},
     "output_type": "execute_result"
    }
   ],
   "source": [
    "# Fit the model\n",
    "\n",
    "cat_reg.fit(X_train,y_train)"
   ]
  },
  {
   "cell_type": "code",
   "execution_count": 13,
   "metadata": {},
   "outputs": [],
   "source": [
    "# Prediction\n",
    "\n",
    "y_pred = cat_reg.predict(X_test)"
   ]
  },
  {
   "cell_type": "code",
   "execution_count": 15,
   "metadata": {},
   "outputs": [
    {
     "name": "stdout",
     "output_type": "stream",
     "text": [
      "Mean Squared Error : \n",
      " 1660.7783\n",
      " \n",
      " R2 Score : \n",
      " 0.9157\n"
     ]
    }
   ],
   "source": [
    "# Evaluate the model\n",
    "\n",
    "mse = mean_squared_error(y_test,y_pred)\n",
    "\n",
    "print(f\"Mean Squared Error : \\n {mse :.4f}\")\n",
    "\n",
    "r2 = r2_score(y_test,y_pred)\n",
    "\n",
    "print(f\" \\n R2 Score : \\n {r2:.4f}\")"
   ]
  }
 ],
 "metadata": {
  "kernelspec": {
   "display_name": "masterxml",
   "language": "python",
   "name": "python3"
  },
  "language_info": {
   "codemirror_mode": {
    "name": "ipython",
    "version": 3
   },
   "file_extension": ".py",
   "mimetype": "text/x-python",
   "name": "python",
   "nbconvert_exporter": "python",
   "pygments_lexer": "ipython3",
   "version": "3.10.16"
  }
 },
 "nbformat": 4,
 "nbformat_minor": 2
}
