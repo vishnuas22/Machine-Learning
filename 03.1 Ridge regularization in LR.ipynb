{
 "cells": [
  {
   "cell_type": "code",
   "execution_count": 28,
   "metadata": {},
   "outputs": [],
   "source": [
    "import numpy as np"
   ]
  },
  {
   "cell_type": "code",
   "execution_count": 29,
   "metadata": {},
   "outputs": [
    {
     "name": "stdout",
     "output_type": "stream",
     "text": [
      "EPOCH  0 loss =4400.0000,w = 8.8000 b = 1.2000\n",
      "EPOCH  100 loss =1.1419,w = 9.8666 b = 0.9585\n",
      "EPOCH  200 loss =1.0687,w = 9.9030 b = 0.6926\n",
      "EPOCH  300 loss =1.0329,w = 9.9284 b = 0.5068\n",
      "EPOCH  400 loss =1.0155,w = 9.9462 b = 0.3768\n",
      "EPOCH  500 loss =1.0069,w = 9.9586 b = 0.2860\n",
      "EPOCH  600 loss =1.0027,w = 9.9673 b = 0.2225\n",
      "EPOCH  700 loss =1.0007,w = 9.9734 b = 0.1781\n",
      "EPOCH  800 loss =0.9997,w = 9.9776 b = 0.1470\n",
      "EPOCH  900 loss =0.9992,w = 9.9806 b = 0.1253\n",
      "\n",
      " Final model:  w = 9.9827 b = 0.1103\n",
      " predictions : [20.07562234 40.04097073 60.00631912 79.9716675  99.93701589]\n"
     ]
    }
   ],
   "source": [
    "# Dataset\n",
    "\n",
    "X = np.array([2,4,6,8,10])\n",
    "y = np.array([20,40,60,80,100])\n",
    "\n",
    "\n",
    "\n",
    "# Hyperparameters\n",
    "learning_rate  = 0.01\n",
    "epoches = 1000\n",
    "lambda_reg = 0.01 # Regularization strength\n",
    "\n",
    "# Initialize weights and bias\n",
    "\n",
    "w = 0.0\n",
    "b = 0.0\n",
    "\n",
    "n = len(X)\n",
    "\n",
    "# Gradient Descent\n",
    "for epoch in range(epoches):\n",
    "   \n",
    "            # Predictions\n",
    "            y_pred = w * X + b\n",
    "  \n",
    "            # Loss (Mean Squared Error + L2 Regularization)\n",
    "            loss = (1/n) * np.sum((y_pred-y) ** 2) + lambda_reg * (w** 2)\n",
    "\n",
    "\n",
    "            # Gradients\n",
    "\n",
    "            dw = (2/n) * np.sum((y_pred - y) * X) + 2 * lambda_reg * w\n",
    "\n",
    "            db = (2/n) * np.sum(y_pred - y)\n",
    "\n",
    "            # Updating parameters\n",
    "\n",
    "            w -= learning_rate * dw\n",
    "\n",
    "            b -= learning_rate * db\n",
    "\n",
    "\n",
    "            if epoch  % 100 == 0 :\n",
    "                    \n",
    "                    print(f\"EPOCH  {epoch} loss ={loss:.4f},w = {w:.4f} b = {b:.4f}\")\n",
    "\n",
    "\n",
    "print(f\"\\n Final model:  w = {w:.4f} b = {b:.4f}\")\n",
    "\n",
    "# Predictions with the trained model\n",
    "predictions =  w * X + b\n",
    "\n",
    "print(f\" predictions : {predictions}\")\n"
   ]
  }
 ],
 "metadata": {
  "kernelspec": {
   "display_name": "masterxml",
   "language": "python",
   "name": "python3"
  },
  "language_info": {
   "codemirror_mode": {
    "name": "ipython",
    "version": 3
   },
   "file_extension": ".py",
   "mimetype": "text/x-python",
   "name": "python",
   "nbconvert_exporter": "python",
   "pygments_lexer": "ipython3",
   "version": "3.10.16"
  }
 },
 "nbformat": 4,
 "nbformat_minor": 2
}
