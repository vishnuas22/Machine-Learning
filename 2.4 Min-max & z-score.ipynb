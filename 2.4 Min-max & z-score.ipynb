{
 "cells": [
  {
   "cell_type": "code",
   "execution_count": 2,
   "metadata": {},
   "outputs": [],
   "source": [
    "from sklearn.preprocessing import MinMaxScaler\n",
    "\n",
    "import numpy as np"
   ]
  },
  {
   "cell_type": "code",
   "execution_count": 3,
   "metadata": {},
   "outputs": [
    {
     "name": "stdout",
     "output_type": "stream",
     "text": [
      "Original data: [[1.e+02 1.e-01]\n",
      " [2.e+02 2.e-01]\n",
      " [3.e+02 3.e-01]]\n",
      "Scaled data [0-1 range]  :\n",
      " [[0.  0. ]\n",
      " [0.5 0.5]\n",
      " [1.  1. ]]\n"
     ]
    }
   ],
   "source": [
    "# Sample Data \n",
    "\n",
    "data = np.array([[100, 0.1],[200, 0.2],[300,0.3]])\n",
    "\n",
    "# Apply min-max scaling\n",
    "\n",
    "scaler= MinMaxScaler()\n",
    "scaled_data = scaler.fit_transform(data)\n",
    "\n",
    "print(f'Original data: {data}')\n",
    "print(f'Scaled data [0-1 range]  :\\n {scaled_data}')"
   ]
  },
  {
   "cell_type": "code",
   "execution_count": 4,
   "metadata": {},
   "outputs": [],
   "source": [
    "from sklearn.preprocessing import StandardScaler\n"
   ]
  },
  {
   "cell_type": "code",
   "execution_count": 5,
   "metadata": {},
   "outputs": [
    {
     "name": "stdout",
     "output_type": "stream",
     "text": [
      "Standardized data (z-score)  :\n",
      " [[-1.22474487e+00 -1.22474487e+00]\n",
      " [ 0.00000000e+00 -3.39934989e-16]\n",
      " [ 1.22474487e+00  1.22474487e+00]]\n"
     ]
    }
   ],
   "source": [
    "# Sample Data \n",
    "\n",
    "z_data = np.array([[100, 0.1],[200, 0.2],[300,0.3]])\n",
    "\n",
    "# Apply min-max scaling\n",
    "\n",
    "new_scaler= StandardScaler()\n",
    "z_scaled_data = new_scaler.fit_transform(z_data)\n",
    "\n",
    "\n",
    "print(f'Standardized data (z-score)  :\\n {z_scaled_data}')"
   ]
  },
  {
   "cell_type": "markdown",
   "metadata": {},
   "source": [
    "Exercise (8.1):\n",
    "Normalize the following dataset using Min-Max scaling to the range \n",
    "\n",
    "Dataset: [[50,5],[60,10],[70,15],[80,20]]\n",
    "Steps:\n",
    "Compute the min and max for each feature.\n",
    "Apply the Min-Max formula manually for each value."
   ]
  },
  {
   "cell_type": "code",
   "execution_count": 9,
   "metadata": {},
   "outputs": [
    {
     "name": "stdout",
     "output_type": "stream",
     "text": [
      "Original data : \n",
      "  [[50, 5], [60, 10], [70, 15], [80, 20]]\n",
      " Scaled data [0-1 range] : \n",
      " [[0.         0.        ]\n",
      " [0.33333333 0.33333333]\n",
      " [0.66666667 0.66666667]\n",
      " [1.         1.        ]]\n"
     ]
    }
   ],
   "source": [
    "dataset= ([[50,5],[60,10],[70,15],[80,20]])\n",
    "\n",
    "ex_scaler = MinMaxScaler()\n",
    "scaling_data  = ex_scaler.fit_transform(dataset)\n",
    "\n",
    "print(f'Original data : \\n  {dataset}')\n",
    "\n",
    "print(f' Scaled data [0-1 range] : \\n {scaling_data}')"
   ]
  }
 ],
 "metadata": {
  "kernelspec": {
   "display_name": "masterxml",
   "language": "python",
   "name": "python3"
  },
  "language_info": {
   "codemirror_mode": {
    "name": "ipython",
    "version": 3
   },
   "file_extension": ".py",
   "mimetype": "text/x-python",
   "name": "python",
   "nbconvert_exporter": "python",
   "pygments_lexer": "ipython3",
   "version": "3.10.16"
  }
 },
 "nbformat": 4,
 "nbformat_minor": 2
}
