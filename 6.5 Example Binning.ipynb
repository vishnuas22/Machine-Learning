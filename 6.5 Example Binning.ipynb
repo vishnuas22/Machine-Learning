{
 "cells": [
  {
   "cell_type": "code",
   "execution_count": 9,
   "metadata": {},
   "outputs": [],
   "source": [
    "import numpy as np\n",
    "import pandas as pd"
   ]
  },
  {
   "cell_type": "code",
   "execution_count": 10,
   "metadata": {},
   "outputs": [],
   "source": [
    "# Create a dataset\n",
    "\n",
    "data = {\n",
    "\n",
    "    \"Age\":  [18, 22, 35, 45, 60, 65, 80],\n",
    "    \"Income\": [15000, 20000, 35000, 50000, 80000, 100000, 200000]\n",
    "}"
   ]
  },
  {
   "cell_type": "code",
   "execution_count": 11,
   "metadata": {},
   "outputs": [],
   "source": [
    "df = pd.DataFrame(data)"
   ]
  },
  {
   "cell_type": "code",
   "execution_count": 12,
   "metadata": {},
   "outputs": [],
   "source": [
    "# Equal-Width Binning (3 bins)\n",
    "\n",
    "df[\"Age_Equal_Width\"] = pd.cut(df[\"Age\"], bins = 3, labels=[\"Young\",\"Middle-Aged\",\"Senior\"])"
   ]
  },
  {
   "cell_type": "code",
   "execution_count": 13,
   "metadata": {},
   "outputs": [],
   "source": [
    "# Equal-Frequency Binning (3 bins)\n",
    "\n",
    "df[\"Age_Equal_Frequency\"] = pd.qcut(df[\"Age\"], q = 3, labels=[\"Low\",\"Medium\",\"High\"])"
   ]
  },
  {
   "cell_type": "code",
   "execution_count": 14,
   "metadata": {},
   "outputs": [],
   "source": [
    "# Custom Binning\n",
    "\n",
    "bins = [0, 25, 40, 65, 100]  # Custom ranges\n",
    "labels = [\"Teen/Young Adult\", \"Adult\", \"Mature Adult\", \"Senior\"]\n",
    "df[\"Age_Custom\"] = pd.cut(df[\"Age\"], bins=bins, labels=labels, right=False)"
   ]
  },
  {
   "cell_type": "code",
   "execution_count": 15,
   "metadata": {},
   "outputs": [
    {
     "name": "stdout",
     "output_type": "stream",
     "text": [
      "   Age  Income Age_Equal_Width Age_Equal_Frequency        Age_Custom\n",
      "0   18   15000           Young                 Low  Teen/Young Adult\n",
      "1   22   20000           Young                 Low  Teen/Young Adult\n",
      "2   35   35000           Young              Medium             Adult\n",
      "3   45   50000     Middle-Aged              Medium      Mature Adult\n",
      "4   60   80000          Senior                High      Mature Adult\n",
      "5   65  100000          Senior                High            Senior\n",
      "6   80  200000          Senior                High            Senior\n"
     ]
    }
   ],
   "source": [
    "print(df)"
   ]
  }
 ],
 "metadata": {
  "kernelspec": {
   "display_name": "masterxml",
   "language": "python",
   "name": "python3"
  },
  "language_info": {
   "codemirror_mode": {
    "name": "ipython",
    "version": 3
   },
   "file_extension": ".py",
   "mimetype": "text/x-python",
   "name": "python",
   "nbconvert_exporter": "python",
   "pygments_lexer": "ipython3",
   "version": "3.10.16"
  }
 },
 "nbformat": 4,
 "nbformat_minor": 2
}
