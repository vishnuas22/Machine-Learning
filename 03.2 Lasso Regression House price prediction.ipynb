{
 "cells": [
  {
   "cell_type": "code",
   "execution_count": 49,
   "metadata": {},
   "outputs": [],
   "source": [
    "import numpy as np\n",
    "\n",
    "import pandas as pd\n",
    "\n",
    "import matplotlib.pyplot as plt\n",
    "\n",
    "from sklearn.model_selection import train_test_split\n",
    "\n",
    "from sklearn.linear_model import LinearRegression,Lasso\n",
    "\n",
    "from sklearn.preprocessing import StandardScaler\n",
    "\n",
    "from sklearn.metrics import mean_squared_error"
   ]
  },
  {
   "cell_type": "code",
   "execution_count": 50,
   "metadata": {},
   "outputs": [
    {
     "name": "stdout",
     "output_type": "stream",
     "text": [
      "Linear Regression:\n",
      "  Weights (coefficients): [[-124186.24006798  190918.83092037  190918.83092037 -152832.06106341]]\n",
      "  Bias (intercept): [307500.]\n",
      "  Mean Squared Error: 41344444444.44441\n",
      "\n",
      "Lasso Regression:\n",
      "  Weights (coefficients): [-1.21711978e+05  3.78507934e+05  1.34238243e-09 -1.51914842e+05]\n",
      "  Bias (intercept): [307500.]\n",
      "  Mean Squared Error: 40558721057.92335\n"
     ]
    }
   ],
   "source": [
    "# Create a simple dataset\n",
    "\n",
    "data = {\n",
    "\n",
    "    \"Size(sqft)\" : [2000, 1500, 1800, 1200, 2500],\n",
    "\n",
    "    \"Bedrooms\" : [3, 2, 3, 2, 4],  \n",
    "\n",
    "    \"Bathrooms\" : [2, 1, 2, 1, 3],\n",
    "      \n",
    "    \"Location Score\" : [8, 7, 9, 6, 10],\n",
    "     \n",
    "    \"Price ($)\": [300000, 200000, 250000, 180000, 500000] }\n",
    "\n",
    "\n",
    "# Convert to dataframe\n",
    "\n",
    "df = pd.DataFrame(data)\n",
    "\n",
    "# Seperate Features and target\n",
    "\n",
    "X = df[[\"Size(sqft)\", \"Bedrooms\", \"Bathrooms\", \"Location Score\"]]\n",
    "\n",
    "y = df[[\"Price ($)\"]]\n",
    "\n",
    "\n",
    "# Split the dataset into training and  testing\n",
    "\n",
    "X_train,X_test,y_train,y_test = train_test_split(X, y, test_size = 0.2 , random_state = 42 )\n",
    "\n",
    "\n",
    "# Standardize the features\n",
    "\n",
    "scaler = StandardScaler()\n",
    "\n",
    "X_train_scaled = scaler.fit_transform(X_train)\n",
    "\n",
    "X_test_scaled = scaler.transform(X_test)\n",
    "\n",
    "# Train Linear Regression\n",
    "linear_model = LinearRegression()\n",
    "\n",
    "linear_model.fit(X_train_scaled, y_train)\n",
    "\n",
    "# Predict and evaluate Linear Regression\n",
    "y_pred_linear = linear_model.predict(X_test_scaled)\n",
    "\n",
    "mse_linear = mean_squared_error(y_test, y_pred_linear)\n",
    "\n",
    "# Train Lasso Regression\n",
    "lasso_model = Lasso(alpha = 1.0) # alpha is the regularization strength , This is essentially using lambda = 0.1 in other contexts.\n",
    "\n",
    "lasso_model.fit(X_train_scaled, y_train) \n",
    "\n",
    "# Predict and evaluate Lasso Regression\n",
    "y_pred_lasso = lasso_model.predict(X_test_scaled)\n",
    "\n",
    "mse_lasso = mean_squared_error(y_test, y_pred_lasso)\n",
    "\n",
    "\n",
    "# Results\n",
    "print(\"Linear Regression:\")\n",
    "print(f\"  Weights (coefficients): {linear_model.coef_}\")\n",
    "print(f\"  Bias (intercept): {linear_model.intercept_}\")\n",
    "print(f\"  Mean Squared Error: {mse_linear}\")\n",
    "\n",
    "print(\"\\nLasso Regression:\")\n",
    "print(f\"  Weights (coefficients): {lasso_model.coef_}\")\n",
    "print(f\"  Bias (intercept): {lasso_model.intercept_}\")\n",
    "print(f\"  Mean Squared Error: {mse_lasso}\")\n"
   ]
  },
  {
   "cell_type": "code",
   "execution_count": null,
   "metadata": {},
   "outputs": [],
   "source": []
  }
 ],
 "metadata": {
  "kernelspec": {
   "display_name": "masterxml",
   "language": "python",
   "name": "python3"
  },
  "language_info": {
   "codemirror_mode": {
    "name": "ipython",
    "version": 3
   },
   "file_extension": ".py",
   "mimetype": "text/x-python",
   "name": "python",
   "nbconvert_exporter": "python",
   "pygments_lexer": "ipython3",
   "version": "3.10.16"
  }
 },
 "nbformat": 4,
 "nbformat_minor": 2
}
