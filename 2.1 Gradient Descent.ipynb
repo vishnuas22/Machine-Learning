{
 "cells": [
  {
   "cell_type": "code",
   "execution_count": 11,
   "metadata": {},
   "outputs": [
    {
     "name": "stdout",
     "output_type": "stream",
     "text": [
      "\n",
      "Final_parameters: w = 0.6200, b= 0.1800\n"
     ]
    }
   ],
   "source": [
    "import numpy as np\n",
    "\n",
    "# Example data: one feature (x) and one target (y)\n",
    "x = np.array([1, 2, 3, 4, 5])\n",
    "y = np.array([5, 7, 9, 11, 13])\n",
    "\n",
    "# Initialize parameters\n",
    "\n",
    "w = 0.0 # weight\n",
    "b = 0.0 # bias\n",
    "\n",
    "learning_rate = -0.01 # step size\n",
    "epochs = 1000 # number of iterations\n",
    "\n",
    "n = len(x)\n",
    "\n",
    "# Gradient Descent loop\n",
    "\n",
    "for i in range(epochs):\n",
    "    \n",
    "    # predictions\n",
    "    y_pred = w * x +b\n",
    "\n",
    "# Calculate the gradients\n",
    "\n",
    "dw = -(2/n) * np.sum((y-y_pred) * x)  #Gradient w.r.t.w\n",
    "\n",
    "db = -(2/n) * np.sum(y-y_pred)  #Gradient w.r.t.b\n",
    "\n",
    "# update  parameters\n",
    "\n",
    "w += learning_rate * dw\n",
    "\n",
    "b =  learning_rate * db\n",
    "\n",
    "    # Optional: Print loss every 100 iterations\n",
    "\n",
    "if i % 100 == 0:\n",
    "\n",
    "    loss = np.mean((y-y_pred) ** 2)\n",
    "    print(f'Epoch : {i}, Loss : {loss:.4f}')\n",
    "\n",
    "\n",
    "print(f'\\nFinal_parameters: w = {w:.4f}, b= {b:.4f}')"
   ]
  },
  {
   "cell_type": "code",
   "execution_count": null,
   "metadata": {},
   "outputs": [],
   "source": []
  }
 ],
 "metadata": {
  "kernelspec": {
   "display_name": "masterxml",
   "language": "python",
   "name": "python3"
  },
  "language_info": {
   "codemirror_mode": {
    "name": "ipython",
    "version": 3
   },
   "file_extension": ".py",
   "mimetype": "text/x-python",
   "name": "python",
   "nbconvert_exporter": "python",
   "pygments_lexer": "ipython3",
   "version": "3.10.16"
  }
 },
 "nbformat": 4,
 "nbformat_minor": 2
}
