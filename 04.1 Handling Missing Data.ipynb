{
 "cells": [
  {
   "cell_type": "code",
   "execution_count": 36,
   "metadata": {},
   "outputs": [],
   "source": [
    "import numpy as np\n",
    "\n",
    "import pandas as pd"
   ]
  },
  {
   "cell_type": "code",
   "execution_count": 37,
   "metadata": {},
   "outputs": [
    {
     "name": "stdout",
     "output_type": "stream",
     "text": [
      "Original Dataset : \n",
      "\n",
      "    Age   Salary           City\n",
      "0  25.0  50000.0       New York\n",
      "1  30.0  60000.0  San Francisco\n",
      "2   NaN  55000.0            NaN\n",
      "3  35.0      NaN        Chicago\n",
      "4  40.0  65000.0       New York\n"
     ]
    }
   ],
   "source": [
    "# Create a dataset with missing values\n",
    "\n",
    "data = { \n",
    "    \"Age\" : [25, 30, np.nan, 35, 40],\n",
    "    \"Salary\": [50000, 60000, 55000, np.nan, 65000],\n",
    "    \"City\": [\"New York\", \"San Francisco\", np.nan, \"Chicago\", \"New York\"],\n",
    "\n",
    "}\n",
    "\n",
    "df = pd.DataFrame(data)\n",
    "print(\"Original Dataset : \\n\")\n",
    "print(df)"
   ]
  },
  {
   "cell_type": "code",
   "execution_count": 38,
   "metadata": {},
   "outputs": [
    {
     "name": "stdout",
     "output_type": "stream",
     "text": [
      "Age       1\n",
      "Salary    1\n",
      "City      1\n",
      "dtype: int64\n"
     ]
    }
   ],
   "source": [
    "# Count of missing values\n",
    "print(df.isna().sum())"
   ]
  },
  {
   "cell_type": "markdown",
   "metadata": {},
   "source": [
    "Run each method seperately After this to check the results"
   ]
  },
  {
   "cell_type": "code",
   "execution_count": 39,
   "metadata": {},
   "outputs": [
    {
     "name": "stdout",
     "output_type": "stream",
     "text": [
      " \n",
      " After dropping missing Rows :\n",
      "    Age   Salary           City\n",
      "0  25.0  50000.0       New York\n",
      "1  30.0  60000.0  San Francisco\n",
      "4  40.0  65000.0       New York\n"
     ]
    }
   ],
   "source": [
    "# Method 1 : Dropping missing values\n",
    "\n",
    "df_dropped = df.dropna()\n",
    "\n",
    "print(\" \\n After dropping missing Rows :\")\n",
    "\n",
    "print(df_dropped)"
   ]
  },
  {
   "cell_type": "code",
   "execution_count": 40,
   "metadata": {},
   "outputs": [
    {
     "name": "stdout",
     "output_type": "stream",
     "text": [
      " \n",
      " After Imputation : \n",
      "    Age   Salary           City\n",
      "0  25.0  50000.0       New York\n",
      "1  30.0  60000.0  San Francisco\n",
      "2  32.5  55000.0        Unknown\n",
      "3  35.0  57500.0        Chicago\n",
      "4  40.0  65000.0       New York\n"
     ]
    }
   ],
   "source": [
    "# Method 2 : Filling missing values\n",
    "\n",
    "df_filled = df.copy()\n",
    "\n",
    "df_filled.fillna({\"Age\": df['Age'].mean()}, inplace=True) # Fill with mean\n",
    "\n",
    "df_filled.fillna({\"Salary\": df['Salary'].median()}, inplace=True) # Fill with median\n",
    "\n",
    "df_filled.fillna({\"City\": \"Unknown\"}, inplace=True) # # Fill with Custom value\n",
    "\n",
    "\n",
    "\n",
    "print(\" \\n After Imputation : \")\n",
    "\n",
    "print(df_filled)"
   ]
  },
  {
   "cell_type": "code",
   "execution_count": 41,
   "metadata": {},
   "outputs": [
    {
     "name": "stdout",
     "output_type": "stream",
     "text": [
      " \n",
      " After Interpolation :\n",
      "    Age   Salary           City\n",
      "0  25.0  50000.0       New York\n",
      "1  30.0  60000.0  San Francisco\n",
      "2  32.5  55000.0            NaN\n",
      "3  35.0      NaN        Chicago\n",
      "4  40.0  65000.0       New York\n"
     ]
    }
   ],
   "source": [
    "# Method 3 : Advanced - Using interpolation for numerical data\n",
    "\n",
    "df_interpolated = df.copy()\n",
    "\n",
    "df_interpolated['Age'] = df_interpolated['Age'].interpolate()\n",
    "\n",
    "print(\" \\n After Interpolation :\")\n",
    "\n",
    "print(df_interpolated)\n"
   ]
  }
 ],
 "metadata": {
  "kernelspec": {
   "display_name": "masterxml",
   "language": "python",
   "name": "python3"
  },
  "language_info": {
   "codemirror_mode": {
    "name": "ipython",
    "version": 3
   },
   "file_extension": ".py",
   "mimetype": "text/x-python",
   "name": "python",
   "nbconvert_exporter": "python",
   "pygments_lexer": "ipython3",
   "version": "3.10.16"
  }
 },
 "nbformat": 4,
 "nbformat_minor": 2
}
