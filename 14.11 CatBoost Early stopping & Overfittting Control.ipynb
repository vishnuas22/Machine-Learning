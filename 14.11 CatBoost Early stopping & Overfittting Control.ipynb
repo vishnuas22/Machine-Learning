{
 "cells": [
  {
   "cell_type": "code",
   "execution_count": 1,
   "metadata": {},
   "outputs": [],
   "source": [
    "import numpy as np\n",
    "\n",
    "import pandas as pd\n",
    "\n",
    "from catboost import CatBoostClassifier,Pool\n",
    "\n",
    "from sklearn.datasets import make_classification\n",
    "\n",
    "from sklearn.model_selection import train_test_split\n",
    "\n",
    "from sklearn.metrics import classification_report"
   ]
  },
  {
   "cell_type": "code",
   "execution_count": 2,
   "metadata": {},
   "outputs": [],
   "source": [
    "# Create dataset\n",
    "\n",
    "X,y = make_classification(n_samples=5000, n_features=20, n_classes=2, random_state=42)"
   ]
  },
  {
   "cell_type": "code",
   "execution_count": 3,
   "metadata": {},
   "outputs": [],
   "source": [
    "# Split the Data\n",
    "\n",
    "X_train, X_test,y_train, y_test = train_test_split(X,y, test_size=0.2,random_state=42)"
   ]
  },
  {
   "cell_type": "code",
   "execution_count": 4,
   "metadata": {},
   "outputs": [],
   "source": [
    "# Convert to CatBoost Pool (for optimized performance)\n",
    "\n",
    "train_pool = Pool(X_train,y_train)\n",
    "\n",
    "test_pool = Pool(X_test,y_test)"
   ]
  },
  {
   "cell_type": "code",
   "execution_count": 5,
   "metadata": {},
   "outputs": [],
   "source": [
    "# 1️⃣ Default CatBoost Model (No Overfitting Control)\n",
    "\n",
    "default_model = CatBoostClassifier(iterations=1000,depth=6,learning_rate=0.1,verbose=200)"
   ]
  },
  {
   "cell_type": "code",
   "execution_count": 6,
   "metadata": {},
   "outputs": [
    {
     "name": "stdout",
     "output_type": "stream",
     "text": [
      "0:\tlearn: 0.5991344\ttest: 0.6014615\tbest: 0.6014615 (0)\ttotal: 58.9ms\tremaining: 58.9s\n",
      "200:\tlearn: 0.0796664\ttest: 0.2079411\tbest: 0.2032139 (57)\ttotal: 428ms\tremaining: 1.7s\n",
      "400:\tlearn: 0.0309344\ttest: 0.2185883\tbest: 0.2032139 (57)\ttotal: 864ms\tremaining: 1.29s\n",
      "600:\tlearn: 0.0158874\ttest: 0.2344541\tbest: 0.2032139 (57)\ttotal: 1.26s\tremaining: 839ms\n",
      "800:\tlearn: 0.0107245\ttest: 0.2448657\tbest: 0.2032139 (57)\ttotal: 1.63s\tremaining: 405ms\n",
      "999:\tlearn: 0.0083733\ttest: 0.2526384\tbest: 0.2032139 (57)\ttotal: 1.97s\tremaining: 0us\n",
      "\n",
      "bestTest = 0.2032139026\n",
      "bestIteration = 57\n",
      "\n"
     ]
    },
    {
     "data": {
      "text/plain": [
       "<catboost.core.CatBoostClassifier at 0x14ef0b520>"
      ]
     },
     "execution_count": 6,
     "metadata": {},
     "output_type": "execute_result"
    }
   ],
   "source": [
    "# Train with default model\n",
    "\n",
    "default_model.fit(train_pool,eval_set=test_pool, use_best_model=False)"
   ]
  },
  {
   "cell_type": "code",
   "execution_count": 7,
   "metadata": {},
   "outputs": [],
   "source": [
    "# Predict with default model\n",
    "\n",
    "default_preds = default_model.predict(X_test)"
   ]
  },
  {
   "cell_type": "code",
   "execution_count": 8,
   "metadata": {},
   "outputs": [],
   "source": [
    "# 2️⃣ CatBoost with Early Stopping & Overfitting Detector\n",
    "\n",
    "early_stopping_model = CatBoostClassifier(\n",
    "\n",
    "    iterations=1000,\n",
    "    depth=6,\n",
    "    learning_rate=0.1,\n",
    "    od_type='Iter',  # Stops training if no improvement\n",
    "    od_wait=50,  # Waits 50 iterations before stopping\n",
    "    verbose=200\n",
    "\n",
    ")"
   ]
  },
  {
   "cell_type": "code",
   "execution_count": 9,
   "metadata": {},
   "outputs": [
    {
     "name": "stdout",
     "output_type": "stream",
     "text": [
      "0:\tlearn: 0.5991344\ttest: 0.6014615\tbest: 0.6014615 (0)\ttotal: 1.91ms\tremaining: 1.91s\n",
      "Stopped by overfitting detector  (50 iterations wait)\n",
      "\n",
      "bestTest = 0.2032139026\n",
      "bestIteration = 57\n",
      "\n",
      "Shrink model to first 58 iterations.\n"
     ]
    },
    {
     "data": {
      "text/plain": [
       "<catboost.core.CatBoostClassifier at 0x14f1fc0a0>"
      ]
     },
     "execution_count": 9,
     "metadata": {},
     "output_type": "execute_result"
    }
   ],
   "source": [
    "# Train with Early stopping model\n",
    "\n",
    "early_stopping_model.fit(train_pool, eval_set=test_pool, early_stopping_rounds=50)"
   ]
  },
  {
   "cell_type": "code",
   "execution_count": 10,
   "metadata": {},
   "outputs": [],
   "source": [
    "# Predict with Early stopping model\n",
    "\n",
    "early_stopping_preds = early_stopping_model.predict(X_test)"
   ]
  },
  {
   "cell_type": "code",
   "execution_count": 11,
   "metadata": {},
   "outputs": [],
   "source": [
    "# 3️⃣ Regularized Model (L2 Regularization & Subsampling)\n",
    "\n",
    "regularized_model = CatBoostClassifier(\n",
    "\n",
    "    iterations=1000,\n",
    "    depth=6,\n",
    "    learning_rate=0.1,\n",
    "    l2_leaf_reg=10, #L2 Regularization\n",
    "    subsample=0.8,  # Use 80% of data per iteration\n",
    "    verbose=200\n",
    "\n",
    ")"
   ]
  },
  {
   "cell_type": "code",
   "execution_count": 12,
   "metadata": {},
   "outputs": [
    {
     "name": "stdout",
     "output_type": "stream",
     "text": [
      "0:\tlearn: 0.6003794\ttest: 0.6023674\tbest: 0.6023674 (0)\ttotal: 2.97ms\tremaining: 2.97s\n",
      "Stopped by overfitting detector  (50 iterations wait)\n",
      "\n",
      "bestTest = 0.2033098382\n",
      "bestIteration = 76\n",
      "\n",
      "Shrink model to first 77 iterations.\n"
     ]
    },
    {
     "data": {
      "text/plain": [
       "<catboost.core.CatBoostClassifier at 0x14f1fc460>"
      ]
     },
     "execution_count": 12,
     "metadata": {},
     "output_type": "execute_result"
    }
   ],
   "source": [
    "# Train with Regularized model\n",
    "\n",
    "regularized_model.fit(train_pool, eval_set=test_pool, early_stopping_rounds=50)"
   ]
  },
  {
   "cell_type": "code",
   "execution_count": 13,
   "metadata": {},
   "outputs": [],
   "source": [
    "# Predict with Regularized model\n",
    "\n",
    "regularized_preds = regularized_model.predict(X_test)"
   ]
  },
  {
   "cell_type": "code",
   "execution_count": 14,
   "metadata": {},
   "outputs": [
    {
     "name": "stdout",
     "output_type": "stream",
     "text": [
      "Default Model:\n",
      "               precision    recall  f1-score   support\n",
      "\n",
      "           0       0.91      0.93      0.92       503\n",
      "           1       0.93      0.91      0.92       497\n",
      "\n",
      "    accuracy                           0.92      1000\n",
      "   macro avg       0.92      0.92      0.92      1000\n",
      "weighted avg       0.92      0.92      0.92      1000\n",
      "\n",
      "Early Stopping Model:\n",
      "               precision    recall  f1-score   support\n",
      "\n",
      "           0       0.91      0.95      0.93       503\n",
      "           1       0.94      0.90      0.92       497\n",
      "\n",
      "    accuracy                           0.92      1000\n",
      "   macro avg       0.92      0.92      0.92      1000\n",
      "weighted avg       0.92      0.92      0.92      1000\n",
      "\n",
      "Regularized Model:\n",
      "               precision    recall  f1-score   support\n",
      "\n",
      "           0       0.91      0.94      0.92       503\n",
      "           1       0.93      0.91      0.92       497\n",
      "\n",
      "    accuracy                           0.92      1000\n",
      "   macro avg       0.92      0.92      0.92      1000\n",
      "weighted avg       0.92      0.92      0.92      1000\n",
      "\n"
     ]
    }
   ],
   "source": [
    "# Evaluate models\n",
    "print(\"Default Model:\\n\", classification_report(y_test, default_preds))\n",
    "print(\"Early Stopping Model:\\n\", classification_report(y_test, early_stopping_preds))\n",
    "print(\"Regularized Model:\\n\", classification_report(y_test, regularized_preds))"
   ]
  }
 ],
 "metadata": {
  "kernelspec": {
   "display_name": "masterxml",
   "language": "python",
   "name": "python3"
  },
  "language_info": {
   "codemirror_mode": {
    "name": "ipython",
    "version": 3
   },
   "file_extension": ".py",
   "mimetype": "text/x-python",
   "name": "python",
   "nbconvert_exporter": "python",
   "pygments_lexer": "ipython3",
   "version": "3.10.16"
  }
 },
 "nbformat": 4,
 "nbformat_minor": 2
}
