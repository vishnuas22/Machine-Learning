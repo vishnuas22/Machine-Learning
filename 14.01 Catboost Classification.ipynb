{
 "cells": [
  {
   "cell_type": "code",
   "execution_count": 1,
   "metadata": {},
   "outputs": [],
   "source": [
    "import numpy as np\n",
    "\n",
    "import pandas as pd\n",
    "\n",
    "from catboost import CatBoostClassifier\n",
    "\n",
    "from sklearn.datasets import make_classification\n",
    "\n",
    "from sklearn.model_selection import train_test_split\n",
    "\n",
    "from sklearn.metrics import accuracy_score,classification_report"
   ]
  },
  {
   "cell_type": "code",
   "execution_count": 2,
   "metadata": {},
   "outputs": [],
   "source": [
    "# Load sample classification dataset\n",
    "\n",
    "X,y = make_classification(n_samples=10000, n_features=10, random_state=42)"
   ]
  },
  {
   "cell_type": "code",
   "execution_count": 3,
   "metadata": {},
   "outputs": [],
   "source": [
    "# Split the data\n",
    "\n",
    "X_train, X_test , y_train, y_test = train_test_split(X,y, test_size=0.2, random_state=42)"
   ]
  },
  {
   "cell_type": "code",
   "execution_count": 4,
   "metadata": {},
   "outputs": [],
   "source": [
    "# Train CatBoost Classifier\n",
    "\n",
    "cat_model = CatBoostClassifier(\n",
    "    iterations=500, \n",
    "    depth=6, \n",
    "    learning_rate=0.05, \n",
    "    verbose=100 \n",
    "    )"
   ]
  },
  {
   "cell_type": "code",
   "execution_count": 5,
   "metadata": {},
   "outputs": [
    {
     "name": "stdout",
     "output_type": "stream",
     "text": [
      "0:\tlearn: 0.6328133\ttotal: 59ms\tremaining: 29.4s\n",
      "100:\tlearn: 0.1798398\ttotal: 272ms\tremaining: 1.07s\n",
      "200:\tlearn: 0.1576022\ttotal: 496ms\tremaining: 738ms\n",
      "300:\tlearn: 0.1402613\ttotal: 718ms\tremaining: 474ms\n",
      "400:\tlearn: 0.1249351\ttotal: 940ms\tremaining: 232ms\n",
      "499:\tlearn: 0.1113314\ttotal: 1.16s\tremaining: 0us\n"
     ]
    },
    {
     "data": {
      "text/plain": [
       "<catboost.core.CatBoostClassifier at 0x10788c3a0>"
      ]
     },
     "execution_count": 5,
     "metadata": {},
     "output_type": "execute_result"
    }
   ],
   "source": [
    "# Fit the model\n",
    "\n",
    "cat_model.fit(X_train,y_train)"
   ]
  },
  {
   "cell_type": "code",
   "execution_count": 6,
   "metadata": {},
   "outputs": [],
   "source": [
    "# Prediction\n",
    "\n",
    "y_pred = cat_model.predict(X_test)"
   ]
  },
  {
   "cell_type": "code",
   "execution_count": 7,
   "metadata": {},
   "outputs": [
    {
     "name": "stdout",
     "output_type": "stream",
     "text": [
      "Accuracy Score : \n",
      " 0.9465\n",
      "Classification Report : \n",
      "               precision    recall  f1-score   support\n",
      "\n",
      "           0       0.96      0.93      0.95       997\n",
      "           1       0.93      0.96      0.95      1003\n",
      "\n",
      "    accuracy                           0.95      2000\n",
      "   macro avg       0.95      0.95      0.95      2000\n",
      "weighted avg       0.95      0.95      0.95      2000\n",
      "\n"
     ]
    }
   ],
   "source": [
    "# Evaluate the model\n",
    "\n",
    "accuracy = accuracy_score(y_test,y_pred)\n",
    "\n",
    "print(f\"Accuracy Score : \\n {accuracy}\")\n",
    "\n",
    "report = classification_report(y_test,y_pred)\n",
    "\n",
    "print(f\"Classification Report : \\n {report}\")"
   ]
  }
 ],
 "metadata": {
  "kernelspec": {
   "display_name": "masterxml",
   "language": "python",
   "name": "python3"
  },
  "language_info": {
   "codemirror_mode": {
    "name": "ipython",
    "version": 3
   },
   "file_extension": ".py",
   "mimetype": "text/x-python",
   "name": "python",
   "nbconvert_exporter": "python",
   "pygments_lexer": "ipython3",
   "version": "3.10.16"
  }
 },
 "nbformat": 4,
 "nbformat_minor": 2
}
