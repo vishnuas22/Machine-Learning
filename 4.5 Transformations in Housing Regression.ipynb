{
 "cells": [
  {
   "cell_type": "code",
   "execution_count": 110,
   "metadata": {},
   "outputs": [],
   "source": [
    "import numpy as np\n",
    "import pandas as pd\n",
    "import matplotlib.pyplot as plt\n",
    "\n",
    "from sklearn.model_selection import train_test_split\n",
    "\n",
    "from sklearn.preprocessing import MinMaxScaler\n",
    "\n",
    "from sklearn.linear_model import LinearRegression\n",
    "\n",
    "from sklearn.metrics import mean_squared_error"
   ]
  },
  {
   "cell_type": "code",
   "execution_count": 111,
   "metadata": {},
   "outputs": [],
   "source": [
    "# Original housing dataset\n",
    "data = {\n",
    "    \"Size (sqft)\": [2000, 1500, 1800, 1200, 2500],\n",
    "    \"Bedrooms\": [3, 2, 3, 2, 4],\n",
    "    \"Bathrooms\": [2, 1, 2, 1, 3],\n",
    "    \"Location Score\": [8, 7, 9, 6, 10],\n",
    "    \"Price ($)\": [300000, 200000, 250000, 180000, 500000]\n",
    "}"
   ]
  },
  {
   "cell_type": "code",
   "execution_count": 112,
   "metadata": {},
   "outputs": [],
   "source": [
    "# Convert to Dataframe\n",
    "\n",
    "df = pd.DataFrame(data)"
   ]
  },
  {
   "cell_type": "code",
   "execution_count": 113,
   "metadata": {},
   "outputs": [],
   "source": [
    "# Separate features and target\n",
    "X = df[[\"Size (sqft)\", \"Bedrooms\", \"Bathrooms\", \"Location Score\"]]\n",
    "y = df[\"Price ($)\"]\n"
   ]
  },
  {
   "cell_type": "code",
   "execution_count": 114,
   "metadata": {},
   "outputs": [
    {
     "name": "stdout",
     "output_type": "stream",
     "text": [
      "   Size (sqft)  Bedrooms  Bathrooms  Location Score\n",
      "0         2000         3          2               8\n",
      "1         1500         2          1               7\n",
      "2         1800         3          2               9\n",
      "3         1200         2          1               6\n",
      "4         2500         4          3              10\n"
     ]
    }
   ],
   "source": [
    "print(X)"
   ]
  },
  {
   "cell_type": "code",
   "execution_count": 115,
   "metadata": {},
   "outputs": [],
   "source": [
    "# Split the dataset\n",
    "\n",
    "X_train,X_test,y_train,y_test = train_test_split(X, y, test_size=0.2, random_state=42)"
   ]
  },
  {
   "cell_type": "code",
   "execution_count": 116,
   "metadata": {},
   "outputs": [],
   "source": [
    "# Apply log transformation\n",
    "X_train_log = X_train.copy()\n",
    "X_train_log[\"Size (sqft)\"] = np.log(X_train_log[\"Size (sqft)\"]) # Log transformation"
   ]
  },
  {
   "cell_type": "code",
   "execution_count": 117,
   "metadata": {},
   "outputs": [],
   "source": [
    "# Apply Square root transformation\n",
    "X_train_sqrt = X_train.copy()\n",
    "X_train_sqrt[\"Size (sqft)\"] = np.log(X_train_sqrt[\"Size (sqft)\"]) # Square root transformation"
   ]
  },
  {
   "cell_type": "code",
   "execution_count": 118,
   "metadata": {},
   "outputs": [],
   "source": [
    "# Min max scaling\n",
    "scaler = MinMaxScaler()\n",
    "X_train_Minmax = scaler.fit_transform(X_train) # Min max scaling"
   ]
  },
  {
   "cell_type": "code",
   "execution_count": 119,
   "metadata": {},
   "outputs": [],
   "source": [
    "# Train Linear Regression Models\n",
    "lr = LinearRegression() "
   ]
  },
  {
   "cell_type": "code",
   "execution_count": 120,
   "metadata": {},
   "outputs": [],
   "source": [
    "# Original\n",
    "\n",
    "lr.fit(X_train,y_train)\n",
    "mse_original = mean_squared_error(y_test, lr.predict(X_test))"
   ]
  },
  {
   "cell_type": "code",
   "execution_count": 121,
   "metadata": {},
   "outputs": [],
   "source": [
    "# Log transformation\n",
    "\n",
    "lr.fit(X_train_log,y_train)\n",
    "mse_log = mean_squared_error(y_test,lr.predict(X_test))"
   ]
  },
  {
   "cell_type": "code",
   "execution_count": 122,
   "metadata": {},
   "outputs": [],
   "source": [
    "# Square root transformation\n",
    "\n",
    "lr.fit(X_train_sqrt,y_train)\n",
    "mse_sqrt = mean_squared_error(y_test,lr.predict(X_test))"
   ]
  },
  {
   "cell_type": "code",
   "execution_count": 123,
   "metadata": {},
   "outputs": [],
   "source": [
    "# Min-max scaling \n",
    "\n",
    "lr.fit(X_train_Minmax,y_train)\n",
    "mse_minmax = mean_squared_error(y_test,lr.predict(scaler.transform(X_test)))"
   ]
  },
  {
   "cell_type": "code",
   "execution_count": 124,
   "metadata": {},
   "outputs": [
    {
     "name": "stdout",
     "output_type": "stream",
     "text": [
      "Original Data MSE: 41344444444.42\n",
      "Log Transformation MSE: 172436545978148512.00\n",
      "Square Root Transformation MSE: 172436545978148512.00\n",
      "Min-Max Scaling MSE: 41344444444.44\n"
     ]
    }
   ],
   "source": [
    "# Print results\n",
    "print(f\"Original Data MSE: {mse_original:.2f}\")\n",
    "print(f\"Log Transformation MSE: {mse_log:.2f}\")\n",
    "print(f\"Square Root Transformation MSE: {mse_sqrt:.2f}\")\n",
    "print(f\"Min-Max Scaling MSE: {mse_minmax:.2f}\")"
   ]
  }
 ],
 "metadata": {
  "kernelspec": {
   "display_name": "masterxml",
   "language": "python",
   "name": "python3"
  },
  "language_info": {
   "codemirror_mode": {
    "name": "ipython",
    "version": 3
   },
   "file_extension": ".py",
   "mimetype": "text/x-python",
   "name": "python",
   "nbconvert_exporter": "python",
   "pygments_lexer": "ipython3",
   "version": "3.10.16"
  }
 },
 "nbformat": 4,
 "nbformat_minor": 2
}
