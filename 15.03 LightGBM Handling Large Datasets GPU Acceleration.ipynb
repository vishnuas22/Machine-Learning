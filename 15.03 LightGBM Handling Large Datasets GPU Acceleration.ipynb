{
 "cells": [
  {
   "cell_type": "code",
   "execution_count": 52,
   "metadata": {},
   "outputs": [],
   "source": [
    "import numpy as np\n",
    "\n",
    "import pandas as pd\n",
    "\n",
    "import time\n",
    "\n",
    "import lightgbm as lgb\n",
    "\n",
    "from lightgbm import LGBMRegressor\n",
    "\n",
    "from sklearn.datasets import make_regression\n",
    "\n",
    "from sklearn.model_selection import train_test_split\n",
    "\n",
    "from sklearn.metrics import mean_absolute_error, mean_squared_error, r2_score\n"
   ]
  },
  {
   "cell_type": "code",
   "execution_count": 53,
   "metadata": {},
   "outputs": [],
   "source": [
    "# Generate a large dataset\n",
    "\n",
    "X, y = make_regression(n_samples=1_000_000, n_features=50, noise=0.1, random_state=42)\n"
   ]
  },
  {
   "cell_type": "code",
   "execution_count": 54,
   "metadata": {},
   "outputs": [],
   "source": [
    "# Split into training and testing sets\n",
    "\n",
    "X_train, X_test, y_train, y_test = train_test_split(X,y, test_size=0.2, random_state=42)"
   ]
  },
  {
   "cell_type": "code",
   "execution_count": 55,
   "metadata": {},
   "outputs": [
    {
     "name": "stdout",
     "output_type": "stream",
     "text": [
      "Dataset Size \n",
      " 800000 Training samples \n",
      " 200000 Testing samples\n"
     ]
    }
   ],
   "source": [
    "print(f\"Dataset Size \\n {X_train.shape[0]} Training samples \\n {X_test.shape[0]} Testing samples\" )"
   ]
  },
  {
   "cell_type": "markdown",
   "metadata": {},
   "source": [
    "Converting to LightGBM's optimized lgb.Dataset format for memory efficiency."
   ]
  },
  {
   "cell_type": "code",
   "execution_count": 56,
   "metadata": {},
   "outputs": [],
   "source": [
    "train_data = lgb.Dataset(X_train ,label=y_train)\n",
    "\n",
    "test_data = lgb.Dataset(X_test, label=y_test, reference=train_data)"
   ]
  },
  {
   "cell_type": "markdown",
   "metadata": {},
   "source": [
    "Training LightGBM with Default CPU\n",
    "\n",
    "Train the model without GPU acceleration first and measure the time taken."
   ]
  },
  {
   "cell_type": "code",
   "execution_count": 57,
   "metadata": {},
   "outputs": [],
   "source": [
    "params = {\n",
    "    'objective': 'regression',\n",
    "    'metric': 'rmse',\n",
    "    'boosting_type': 'gbdt',\n",
    "    'learning_rate': 0.05,\n",
    "    'num_leaves': 31,\n",
    "    'max_depth': -1,\n",
    "    'min_data_in_leaf': 20,\n",
    "    'feature_fraction': 0.8,\n",
    "    'bagging_fraction': 0.8,\n",
    "    'bagging_freq': 5,\n",
    "    'verbose': -1\n",
    "}"
   ]
  },
  {
   "cell_type": "markdown",
   "metadata": {},
   "source": [
    "Speeding Up LightGBM on Large Datasets\n",
    "\n",
    "-------->  LightGBM uses histogram-based learning, which significantly reduces memory usage."
   ]
  },
  {
   "cell_type": "code",
   "execution_count": 58,
   "metadata": {},
   "outputs": [],
   "source": [
    "X_train = X_train.astype(np.float32)\n",
    "\n",
    "X_test = X_test.astype(np.float32)"
   ]
  },
  {
   "cell_type": "markdown",
   "metadata": {},
   "source": [
    "Enable Multi-threading\n",
    "\n",
    "Utilize multiple CPU cores by setting:"
   ]
  },
  {
   "cell_type": "code",
   "execution_count": 59,
   "metadata": {},
   "outputs": [],
   "source": [
    "params['num_threads'] = -1  # Use all available CPU cores\n"
   ]
  },
  {
   "cell_type": "code",
   "execution_count": 60,
   "metadata": {},
   "outputs": [],
   "source": [
    "params['feature_fraction'] = 0.7  # Use 70% of features per iteration\n",
    "params['bagging_fraction'] = 0.7  # Use 70% of data per iteration\n",
    "params['bagging_freq'] = 5        # Perform bagging every 5 iterations"
   ]
  },
  {
   "cell_type": "code",
   "execution_count": 61,
   "metadata": {},
   "outputs": [
    {
     "name": "stdout",
     "output_type": "stream",
     "text": [
      "Training until validation scores don't improve for 50 rounds\n",
      "[50]\tvalid_0's rmse: 53.7263\n",
      "[100]\tvalid_0's rmse: 26.9184\n",
      "[150]\tvalid_0's rmse: 15.2632\n",
      "[200]\tvalid_0's rmse: 10.6937\n",
      "[250]\tvalid_0's rmse: 8.96545\n",
      "[300]\tvalid_0's rmse: 8.29143\n",
      "[350]\tvalid_0's rmse: 7.99567\n",
      "[400]\tvalid_0's rmse: 7.84269\n",
      "[450]\tvalid_0's rmse: 7.7611\n",
      "[500]\tvalid_0's rmse: 7.69598\n",
      "Did not meet early stopping. Best iteration is:\n",
      "[500]\tvalid_0's rmse: 7.69598\n"
     ]
    }
   ],
   "source": [
    "# Measure training time\n",
    "\n",
    "start_time = time.time()\n",
    "\n",
    "model = lgb.train(\n",
    "    params, \n",
    "    train_data, \n",
    "    valid_sets=[test_data],\n",
    "    num_boost_round=500, \n",
    "    callbacks=[\n",
    "        lgb.early_stopping(stopping_rounds=50),  \n",
    "        lgb.log_evaluation(period=50)  \n",
    "    ]\n",
    "    )\n",
    "\n",
    "\n",
    "\n",
    "end_time = time.time()"
   ]
  },
  {
   "cell_type": "code",
   "execution_count": 62,
   "metadata": {},
   "outputs": [
    {
     "name": "stdout",
     "output_type": "stream",
     "text": [
      "Training time CPU :  13.46\n"
     ]
    }
   ],
   "source": [
    "print(f\"Training time CPU : {end_time-start_time : .2f}\")"
   ]
  },
  {
   "cell_type": "markdown",
   "metadata": {},
   "source": [
    "LightGBM Supports OPENCL Which is not compatible with macos ---> run this with cuda GPU"
   ]
  },
  {
   "cell_type": "code",
   "execution_count": null,
   "metadata": {},
   "outputs": [],
   "source": [
    "params['device'] = 'gpu'\n",
    "params['gpu_platform_id'] = 0\n",
    "params['gpu_device_id'] = 0\n"
   ]
  },
  {
   "cell_type": "code",
   "execution_count": null,
   "metadata": {},
   "outputs": [],
   "source": [
    "start_time_gpu = time.time()\n",
    "\n",
    "model_gpu = lgb.train(\n",
    "    params, \n",
    "    train_data, \n",
    "    valid_sets=[test_data],\n",
    "    num_boost_round=500, \n",
    "    callbacks=[\n",
    "        lgb.early_stopping(stopping_rounds=50),\n",
    "        lgb.log_evaluation(period=50)  \n",
    "    ]\n",
    "    )\n",
    "\n",
    "end_time_gpu = time.time()\n",
    "\n",
    "print(f\"Training Time (GPU): {end_time_gpu - start_time_gpu:.2f} seconds\")\n"
   ]
  },
  {
   "cell_type": "code",
   "execution_count": null,
   "metadata": {},
   "outputs": [],
   "source": [
    "y_pred = model.predict(X_test)\n"
   ]
  },
  {
   "cell_type": "code",
   "execution_count": null,
   "metadata": {},
   "outputs": [],
   "source": [
    "\n",
    "mae = mean_absolute_error(y_test, y_pred)\n",
    "mse = mean_squared_error(y_test, y_pred)\n",
    "rmse = np.sqrt(mse)\n",
    "r2 = r2_score(y_test, y_pred)\n",
    "\n",
    "print(f\"Mean Absolute Error (MAE): {mae:.4f}\")\n",
    "print(f\"Mean Squared Error (MSE): {mse:.4f}\")\n",
    "print(f\"Root Mean Squared Error (RMSE): {rmse:.4f}\")\n",
    "print(f\"R² Score: {r2:.4f}\")\n"
   ]
  }
 ],
 "metadata": {
  "kernelspec": {
   "display_name": "masterxml",
   "language": "python",
   "name": "python3"
  },
  "language_info": {
   "codemirror_mode": {
    "name": "ipython",
    "version": 3
   },
   "file_extension": ".py",
   "mimetype": "text/x-python",
   "name": "python",
   "nbconvert_exporter": "python",
   "pygments_lexer": "ipython3",
   "version": "3.10.16"
  }
 },
 "nbformat": 4,
 "nbformat_minor": 2
}
