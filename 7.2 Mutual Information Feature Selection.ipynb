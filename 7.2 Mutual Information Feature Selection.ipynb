{
 "cells": [
  {
   "cell_type": "code",
   "execution_count": 9,
   "metadata": {},
   "outputs": [],
   "source": [
    "import numpy as np\n",
    "import pandas as pd\n",
    "\n",
    "from sklearn.feature_selection import mutual_info_regression"
   ]
  },
  {
   "cell_type": "code",
   "execution_count": 10,
   "metadata": {},
   "outputs": [],
   "source": [
    "# Load the dataset\n",
    "\n",
    "from sklearn.datasets import fetch_california_housing\n",
    "\n",
    "data = fetch_california_housing(as_frame = True)\n",
    "df = data.frame"
   ]
  },
  {
   "cell_type": "code",
   "execution_count": 11,
   "metadata": {},
   "outputs": [],
   "source": [
    "# Target variable\n",
    "\n",
    "y = df['MedHouseVal']"
   ]
  },
  {
   "cell_type": "code",
   "execution_count": 12,
   "metadata": {},
   "outputs": [],
   "source": [
    "X = df.drop(columns = ['MedHouseVal'])"
   ]
  },
  {
   "cell_type": "code",
   "execution_count": 13,
   "metadata": {},
   "outputs": [],
   "source": [
    "# Compute Mutual Information scores\n",
    "\n",
    "mi_scores = mutual_info_regression(X, y, random_state=42)"
   ]
  },
  {
   "cell_type": "code",
   "execution_count": 14,
   "metadata": {},
   "outputs": [],
   "source": [
    "# Create a DataFrame of MI scores\n",
    "\n",
    "mi_scores_df = pd.DataFrame({'Feature' : X.columns , 'MI_Score' : mi_scores})\n",
    "\n",
    "mi_scores_df = mi_scores_df.sort_values(by='MI_Score', ascending= False)"
   ]
  },
  {
   "cell_type": "code",
   "execution_count": 15,
   "metadata": {},
   "outputs": [
    {
     "name": "stdout",
     "output_type": "stream",
     "text": [
      "      Feature  MI_Score\n",
      "7   Longitude  0.400147\n",
      "0      MedInc  0.387097\n",
      "6    Latitude  0.370763\n",
      "2    AveRooms  0.102874\n",
      "5    AveOccup  0.072716\n",
      "1    HouseAge  0.033368\n",
      "3   AveBedrms  0.024149\n",
      "4  Population  0.020878\n"
     ]
    }
   ],
   "source": [
    "# Display the MI scores\n",
    "\n",
    "print(mi_scores_df)"
   ]
  },
  {
   "cell_type": "code",
   "execution_count": 16,
   "metadata": {},
   "outputs": [],
   "source": [
    "# Select features with MI Score above a threshold (e.g., 0.1)\n",
    "\n",
    "threshold = 0.1\n",
    "\n",
    "selected_features = mi_scores_df[mi_scores_df['MI_Score'] > threshold]['Feature'].tolist()"
   ]
  },
  {
   "cell_type": "code",
   "execution_count": 17,
   "metadata": {},
   "outputs": [
    {
     "name": "stdout",
     "output_type": "stream",
     "text": [
      "\n",
      "Selected features based on Mutual Information:\n",
      "['Longitude', 'MedInc', 'Latitude', 'AveRooms']\n"
     ]
    }
   ],
   "source": [
    "print(\"\\nSelected features based on Mutual Information:\")\n",
    "\n",
    "print(selected_features)"
   ]
  }
 ],
 "metadata": {
  "kernelspec": {
   "display_name": "masterxml",
   "language": "python",
   "name": "python3"
  },
  "language_info": {
   "codemirror_mode": {
    "name": "ipython",
    "version": 3
   },
   "file_extension": ".py",
   "mimetype": "text/x-python",
   "name": "python",
   "nbconvert_exporter": "python",
   "pygments_lexer": "ipython3",
   "version": "3.10.16"
  }
 },
 "nbformat": 4,
 "nbformat_minor": 2
}
