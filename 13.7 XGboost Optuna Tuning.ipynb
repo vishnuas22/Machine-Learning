{
 "cells": [
  {
   "cell_type": "markdown",
   "metadata": {},
   "source": [
    "Optuna is a smarter, Bayesian Optimization-based method that finds optimal hyperparameters quickly."
   ]
  },
  {
   "cell_type": "markdown",
   "metadata": {},
   "source": [
    "✅ Pros: Faster and more efficient than Grid/Random Search.\n",
    "❌ Cons: Slightly more complex to set up."
   ]
  },
  {
   "cell_type": "code",
   "execution_count": 31,
   "metadata": {},
   "outputs": [],
   "source": [
    "import numpy as np\n",
    "\n",
    "import optuna\n",
    "\n",
    "from xgboost import XGBClassifier\n",
    "\n",
    "from sklearn.datasets import make_classification\n",
    "\n",
    "from sklearn.model_selection import cross_val_score, train_test_split\n",
    "\n",
    "from sklearn.metrics import accuracy_score,classification_report"
   ]
  },
  {
   "cell_type": "code",
   "execution_count": 32,
   "metadata": {},
   "outputs": [],
   "source": [
    "# Generate synthetic data\n",
    "\n",
    "X,y = make_classification(n_samples=500, n_features=10, n_informative=2, n_redundant=2, random_state=42)"
   ]
  },
  {
   "cell_type": "code",
   "execution_count": 33,
   "metadata": {},
   "outputs": [],
   "source": [
    "# Split the data\n",
    "\n",
    "X_train, X_test, y_train, y_test = train_test_split(X,y, test_size= 0.3, random_state= 42)"
   ]
  },
  {
   "cell_type": "code",
   "execution_count": 34,
   "metadata": {},
   "outputs": [],
   "source": [
    "# Define objective function\n",
    "\n",
    "def objective(trial):\n",
    "\n",
    "    params = {\n",
    "\n",
    "        'n_estimators' : trial.suggest_int('n_estimators' , 50, 300 , step=50),\n",
    "        'learning_rate' : trial.suggest_float('learning_rate' , 0.01, 0.3, log=True), # Actually its log but depreciated in newer versions so use float with log\n",
    "        'max_depth' : trial.suggest_int('max_depth' , 3, 10),\n",
    "        'subsample' : trial.suggest_float('subsample' , 0.5, 1.0),\n",
    "        'colsample_bytree' : trial.suggest_float('colsample_bytree' , 0.5, 1.0)\n",
    "    }\n",
    "   \n",
    "    # Initialize the model\n",
    "    \n",
    "    model = XGBClassifier(**params, eval_metric = 'logloss')\n",
    "\n",
    "    model.fit(X_train,y_train)\n",
    "\n",
    "    # Perform 5-fold cross-validation and return mean accuracy (to avoid overfitting if you use only X_train and y_train)\n",
    "\n",
    "    score = cross_val_score(model, X_train, y_train, cv=5, scoring='accuracy').mean()\n",
    "    \n",
    "    return score  # Higher accuracy is better\n"
   ]
  },
  {
   "cell_type": "code",
   "execution_count": 35,
   "metadata": {},
   "outputs": [
    {
     "name": "stderr",
     "output_type": "stream",
     "text": [
      "[I 2025-01-30 12:58:29,802] A new study created in memory with name: no-name-86f12bdf-b1ad-472e-a40a-d300127d5f7f\n",
      "[I 2025-01-30 12:58:30,318] Trial 0 finished with value: 0.9257142857142856 and parameters: {'n_estimators': 50, 'learning_rate': 0.18640794044507109, 'max_depth': 9, 'subsample': 0.5569162408556458, 'colsample_bytree': 0.5274869689898543}. Best is trial 0 with value: 0.9257142857142856.\n",
      "[I 2025-01-30 12:58:32,516] Trial 1 finished with value: 0.9428571428571428 and parameters: {'n_estimators': 200, 'learning_rate': 0.018773060159296372, 'max_depth': 10, 'subsample': 0.651449306755092, 'colsample_bytree': 0.7324840258100966}. Best is trial 1 with value: 0.9428571428571428.\n",
      "[I 2025-01-30 12:58:33,954] Trial 2 finished with value: 0.9314285714285715 and parameters: {'n_estimators': 200, 'learning_rate': 0.162810780615377, 'max_depth': 9, 'subsample': 0.844046841957707, 'colsample_bytree': 0.6025177492206323}. Best is trial 1 with value: 0.9428571428571428.\n",
      "[I 2025-01-30 12:58:34,860] Trial 3 finished with value: 0.9199999999999999 and parameters: {'n_estimators': 150, 'learning_rate': 0.2160688032649715, 'max_depth': 3, 'subsample': 0.5523558938640003, 'colsample_bytree': 0.7737860580602789}. Best is trial 1 with value: 0.9428571428571428.\n",
      "[I 2025-01-30 12:58:35,296] Trial 4 finished with value: 0.9342857142857144 and parameters: {'n_estimators': 50, 'learning_rate': 0.06624426126125889, 'max_depth': 4, 'subsample': 0.8281900783247242, 'colsample_bytree': 0.8932333361898843}. Best is trial 1 with value: 0.9428571428571428.\n",
      "[I 2025-01-30 12:58:35,745] Trial 5 finished with value: 0.9257142857142858 and parameters: {'n_estimators': 50, 'learning_rate': 0.012647812159344041, 'max_depth': 4, 'subsample': 0.8840221849361452, 'colsample_bytree': 0.7432561069527674}. Best is trial 1 with value: 0.9428571428571428.\n",
      "[I 2025-01-30 12:58:36,282] Trial 6 finished with value: 0.9228571428571428 and parameters: {'n_estimators': 50, 'learning_rate': 0.013368093494644108, 'max_depth': 9, 'subsample': 0.535335586074533, 'colsample_bytree': 0.8910256371800221}. Best is trial 1 with value: 0.9428571428571428.\n",
      "[I 2025-01-30 12:58:36,934] Trial 7 finished with value: 0.9285714285714285 and parameters: {'n_estimators': 50, 'learning_rate': 0.012178279753674496, 'max_depth': 10, 'subsample': 0.8689921104253215, 'colsample_bytree': 0.5750681780582021}. Best is trial 1 with value: 0.9428571428571428.\n",
      "[I 2025-01-30 12:58:40,395] Trial 8 finished with value: 0.9314285714285715 and parameters: {'n_estimators': 300, 'learning_rate': 0.010331824880738232, 'max_depth': 6, 'subsample': 0.8646938386068279, 'colsample_bytree': 0.8648123211377485}. Best is trial 1 with value: 0.9428571428571428.\n",
      "[I 2025-01-30 12:58:40,965] Trial 9 finished with value: 0.9257142857142858 and parameters: {'n_estimators': 50, 'learning_rate': 0.01484541199982857, 'max_depth': 6, 'subsample': 0.6711449764655771, 'colsample_bytree': 0.5959496218498799}. Best is trial 1 with value: 0.9428571428571428.\n",
      "[I 2025-01-30 12:58:43,293] Trial 10 finished with value: 0.9342857142857144 and parameters: {'n_estimators': 200, 'learning_rate': 0.03013844370638675, 'max_depth': 7, 'subsample': 0.9914942553983477, 'colsample_bytree': 0.9927689214422718}. Best is trial 1 with value: 0.9428571428571428.\n",
      "[I 2025-01-30 12:58:44,527] Trial 11 finished with value: 0.9400000000000001 and parameters: {'n_estimators': 150, 'learning_rate': 0.05767076690234248, 'max_depth': 4, 'subsample': 0.7105276962272363, 'colsample_bytree': 0.7270217017059142}. Best is trial 1 with value: 0.9428571428571428.\n",
      "[I 2025-01-30 12:58:46,024] Trial 12 finished with value: 0.9400000000000001 and parameters: {'n_estimators': 150, 'learning_rate': 0.056861935748552354, 'max_depth': 7, 'subsample': 0.6756086297542669, 'colsample_bytree': 0.723977427864537}. Best is trial 1 with value: 0.9428571428571428.\n",
      "[I 2025-01-30 12:58:48,445] Trial 13 finished with value: 0.9371428571428572 and parameters: {'n_estimators': 250, 'learning_rate': 0.030887087023462486, 'max_depth': 5, 'subsample': 0.6852599519066909, 'colsample_bytree': 0.6752420985544134}. Best is trial 1 with value: 0.9428571428571428.\n",
      "[I 2025-01-30 12:58:49,779] Trial 14 finished with value: 0.9342857142857144 and parameters: {'n_estimators': 150, 'learning_rate': 0.09780623037430544, 'max_depth': 8, 'subsample': 0.7642414829069801, 'colsample_bytree': 0.7985202093228004}. Best is trial 1 with value: 0.9428571428571428.\n",
      "[I 2025-01-30 12:58:51,417] Trial 15 finished with value: 0.9285714285714286 and parameters: {'n_estimators': 250, 'learning_rate': 0.029431284077833932, 'max_depth': 3, 'subsample': 0.6172928639743089, 'colsample_bytree': 0.6739158894894194}. Best is trial 1 with value: 0.9428571428571428.\n",
      "[I 2025-01-30 12:58:52,434] Trial 16 finished with value: 0.9342857142857144 and parameters: {'n_estimators': 100, 'learning_rate': 0.02134221454848081, 'max_depth': 5, 'subsample': 0.7470624254468086, 'colsample_bytree': 0.6674827865992613}. Best is trial 1 with value: 0.9428571428571428.\n",
      "[I 2025-01-30 12:58:54,253] Trial 17 finished with value: 0.9285714285714286 and parameters: {'n_estimators': 250, 'learning_rate': 0.10155251719313536, 'max_depth': 10, 'subsample': 0.6036488023990548, 'colsample_bytree': 0.8184983977770728}. Best is trial 1 with value: 0.9428571428571428.\n",
      "[I 2025-01-30 12:58:55,412] Trial 18 finished with value: 0.9371428571428572 and parameters: {'n_estimators': 100, 'learning_rate': 0.042492964607903645, 'max_depth': 8, 'subsample': 0.753588748296861, 'colsample_bytree': 0.714057292726891}. Best is trial 1 with value: 0.9428571428571428.\n",
      "[I 2025-01-30 12:58:57,030] Trial 19 finished with value: 0.9371428571428572 and parameters: {'n_estimators': 200, 'learning_rate': 0.0846092274921117, 'max_depth': 5, 'subsample': 0.6220353764130173, 'colsample_bytree': 0.634627373474442}. Best is trial 1 with value: 0.9428571428571428.\n"
     ]
    }
   ],
   "source": [
    "# Run Optuna\n",
    "\n",
    "study = optuna.create_study(direction='maximize')\n",
    "\n",
    "study.optimize(objective, n_trials =20)"
   ]
  },
  {
   "cell_type": "code",
   "execution_count": 36,
   "metadata": {},
   "outputs": [
    {
     "name": "stdout",
     "output_type": "stream",
     "text": [
      "Best parameters: {'n_estimators': 200, 'learning_rate': 0.018773060159296372, 'max_depth': 10, 'subsample': 0.651449306755092, 'colsample_bytree': 0.7324840258100966}\n",
      "Best score: 0.9428571428571428\n"
     ]
    }
   ],
   "source": [
    "print(\"Best parameters:\", study.best_params)\n",
    "\n",
    "print(\"Best score:\", study.best_value)"
   ]
  },
  {
   "cell_type": "code",
   "execution_count": 37,
   "metadata": {},
   "outputs": [
    {
     "data": {
      "text/html": [
       "<style>#sk-container-id-1 {color: black;}#sk-container-id-1 pre{padding: 0;}#sk-container-id-1 div.sk-toggleable {background-color: white;}#sk-container-id-1 label.sk-toggleable__label {cursor: pointer;display: block;width: 100%;margin-bottom: 0;padding: 0.3em;box-sizing: border-box;text-align: center;}#sk-container-id-1 label.sk-toggleable__label-arrow:before {content: \"▸\";float: left;margin-right: 0.25em;color: #696969;}#sk-container-id-1 label.sk-toggleable__label-arrow:hover:before {color: black;}#sk-container-id-1 div.sk-estimator:hover label.sk-toggleable__label-arrow:before {color: black;}#sk-container-id-1 div.sk-toggleable__content {max-height: 0;max-width: 0;overflow: hidden;text-align: left;background-color: #f0f8ff;}#sk-container-id-1 div.sk-toggleable__content pre {margin: 0.2em;color: black;border-radius: 0.25em;background-color: #f0f8ff;}#sk-container-id-1 input.sk-toggleable__control:checked~div.sk-toggleable__content {max-height: 200px;max-width: 100%;overflow: auto;}#sk-container-id-1 input.sk-toggleable__control:checked~label.sk-toggleable__label-arrow:before {content: \"▾\";}#sk-container-id-1 div.sk-estimator input.sk-toggleable__control:checked~label.sk-toggleable__label {background-color: #d4ebff;}#sk-container-id-1 div.sk-label input.sk-toggleable__control:checked~label.sk-toggleable__label {background-color: #d4ebff;}#sk-container-id-1 input.sk-hidden--visually {border: 0;clip: rect(1px 1px 1px 1px);clip: rect(1px, 1px, 1px, 1px);height: 1px;margin: -1px;overflow: hidden;padding: 0;position: absolute;width: 1px;}#sk-container-id-1 div.sk-estimator {font-family: monospace;background-color: #f0f8ff;border: 1px dotted black;border-radius: 0.25em;box-sizing: border-box;margin-bottom: 0.5em;}#sk-container-id-1 div.sk-estimator:hover {background-color: #d4ebff;}#sk-container-id-1 div.sk-parallel-item::after {content: \"\";width: 100%;border-bottom: 1px solid gray;flex-grow: 1;}#sk-container-id-1 div.sk-label:hover label.sk-toggleable__label {background-color: #d4ebff;}#sk-container-id-1 div.sk-serial::before {content: \"\";position: absolute;border-left: 1px solid gray;box-sizing: border-box;top: 0;bottom: 0;left: 50%;z-index: 0;}#sk-container-id-1 div.sk-serial {display: flex;flex-direction: column;align-items: center;background-color: white;padding-right: 0.2em;padding-left: 0.2em;position: relative;}#sk-container-id-1 div.sk-item {position: relative;z-index: 1;}#sk-container-id-1 div.sk-parallel {display: flex;align-items: stretch;justify-content: center;background-color: white;position: relative;}#sk-container-id-1 div.sk-item::before, #sk-container-id-1 div.sk-parallel-item::before {content: \"\";position: absolute;border-left: 1px solid gray;box-sizing: border-box;top: 0;bottom: 0;left: 50%;z-index: -1;}#sk-container-id-1 div.sk-parallel-item {display: flex;flex-direction: column;z-index: 1;position: relative;background-color: white;}#sk-container-id-1 div.sk-parallel-item:first-child::after {align-self: flex-end;width: 50%;}#sk-container-id-1 div.sk-parallel-item:last-child::after {align-self: flex-start;width: 50%;}#sk-container-id-1 div.sk-parallel-item:only-child::after {width: 0;}#sk-container-id-1 div.sk-dashed-wrapped {border: 1px dashed gray;margin: 0 0.4em 0.5em 0.4em;box-sizing: border-box;padding-bottom: 0.4em;background-color: white;}#sk-container-id-1 div.sk-label label {font-family: monospace;font-weight: bold;display: inline-block;line-height: 1.2em;}#sk-container-id-1 div.sk-label-container {text-align: center;}#sk-container-id-1 div.sk-container {/* jupyter's `normalize.less` sets `[hidden] { display: none; }` but bootstrap.min.css set `[hidden] { display: none !important; }` so we also need the `!important` here to be able to override the default hidden behavior on the sphinx rendered scikit-learn.org. See: https://github.com/scikit-learn/scikit-learn/issues/21755 */display: inline-block !important;position: relative;}#sk-container-id-1 div.sk-text-repr-fallback {display: none;}</style><div id=\"sk-container-id-1\" class=\"sk-top-container\"><div class=\"sk-text-repr-fallback\"><pre>XGBClassifier(base_score=None, booster=None, callbacks=None,\n",
       "              colsample_bylevel=None, colsample_bynode=None,\n",
       "              colsample_bytree=0.7324840258100966, device=None,\n",
       "              early_stopping_rounds=None, enable_categorical=False,\n",
       "              eval_metric=&#x27;logloss&#x27;, feature_types=None, gamma=None,\n",
       "              grow_policy=None, importance_type=None,\n",
       "              interaction_constraints=None, learning_rate=0.018773060159296372,\n",
       "              max_bin=None, max_cat_threshold=None, max_cat_to_onehot=None,\n",
       "              max_delta_step=None, max_depth=10, max_leaves=None,\n",
       "              min_child_weight=None, missing=nan, monotone_constraints=None,\n",
       "              multi_strategy=None, n_estimators=200, n_jobs=None,\n",
       "              num_parallel_tree=None, random_state=None, ...)</pre><b>In a Jupyter environment, please rerun this cell to show the HTML representation or trust the notebook. <br />On GitHub, the HTML representation is unable to render, please try loading this page with nbviewer.org.</b></div><div class=\"sk-container\" hidden><div class=\"sk-item\"><div class=\"sk-estimator sk-toggleable\"><input class=\"sk-toggleable__control sk-hidden--visually\" id=\"sk-estimator-id-1\" type=\"checkbox\" checked><label for=\"sk-estimator-id-1\" class=\"sk-toggleable__label sk-toggleable__label-arrow\">XGBClassifier</label><div class=\"sk-toggleable__content\"><pre>XGBClassifier(base_score=None, booster=None, callbacks=None,\n",
       "              colsample_bylevel=None, colsample_bynode=None,\n",
       "              colsample_bytree=0.7324840258100966, device=None,\n",
       "              early_stopping_rounds=None, enable_categorical=False,\n",
       "              eval_metric=&#x27;logloss&#x27;, feature_types=None, gamma=None,\n",
       "              grow_policy=None, importance_type=None,\n",
       "              interaction_constraints=None, learning_rate=0.018773060159296372,\n",
       "              max_bin=None, max_cat_threshold=None, max_cat_to_onehot=None,\n",
       "              max_delta_step=None, max_depth=10, max_leaves=None,\n",
       "              min_child_weight=None, missing=nan, monotone_constraints=None,\n",
       "              multi_strategy=None, n_estimators=200, n_jobs=None,\n",
       "              num_parallel_tree=None, random_state=None, ...)</pre></div></div></div></div></div>"
      ],
      "text/plain": [
       "XGBClassifier(base_score=None, booster=None, callbacks=None,\n",
       "              colsample_bylevel=None, colsample_bynode=None,\n",
       "              colsample_bytree=0.7324840258100966, device=None,\n",
       "              early_stopping_rounds=None, enable_categorical=False,\n",
       "              eval_metric='logloss', feature_types=None, gamma=None,\n",
       "              grow_policy=None, importance_type=None,\n",
       "              interaction_constraints=None, learning_rate=0.018773060159296372,\n",
       "              max_bin=None, max_cat_threshold=None, max_cat_to_onehot=None,\n",
       "              max_delta_step=None, max_depth=10, max_leaves=None,\n",
       "              min_child_weight=None, missing=nan, monotone_constraints=None,\n",
       "              multi_strategy=None, n_estimators=200, n_jobs=None,\n",
       "              num_parallel_tree=None, random_state=None, ...)"
      ]
     },
     "execution_count": 37,
     "metadata": {},
     "output_type": "execute_result"
    }
   ],
   "source": [
    "# Evaluate the best model\n",
    "\n",
    "best_model = XGBClassifier(**study.best_params, eval_metric = 'logloss' )\n",
    "\n",
    "best_model.fit(X_train,y_train)\n"
   ]
  },
  {
   "cell_type": "code",
   "execution_count": 39,
   "metadata": {},
   "outputs": [],
   "source": [
    "# Predict with model\n",
    "\n",
    "y_pred = best_model.predict(X_test)\n"
   ]
  },
  {
   "cell_type": "code",
   "execution_count": 41,
   "metadata": {},
   "outputs": [
    {
     "name": "stdout",
     "output_type": "stream",
     "text": [
      "Accuracy Score : 0.92\n",
      "Classification Report :\n",
      "\n",
      "              precision    recall  f1-score   support\n",
      "\n",
      "           0       0.97      0.87      0.92        79\n",
      "           1       0.87      0.97      0.92        71\n",
      "\n",
      "    accuracy                           0.92       150\n",
      "   macro avg       0.92      0.92      0.92       150\n",
      "weighted avg       0.93      0.92      0.92       150\n",
      "\n"
     ]
    }
   ],
   "source": [
    "print(f\"Accuracy Score : {accuracy_score(y_test,y_pred)}\")\n",
    "\n",
    "print(\"Classification Report :\\n\")\n",
    "\n",
    "print(classification_report(y_test, y_pred))"
   ]
  }
 ],
 "metadata": {
  "kernelspec": {
   "display_name": "masterxml",
   "language": "python",
   "name": "python3"
  },
  "language_info": {
   "codemirror_mode": {
    "name": "ipython",
    "version": 3
   },
   "file_extension": ".py",
   "mimetype": "text/x-python",
   "name": "python",
   "nbconvert_exporter": "python",
   "pygments_lexer": "ipython3",
   "version": "3.10.16"
  }
 },
 "nbformat": 4,
 "nbformat_minor": 2
}
