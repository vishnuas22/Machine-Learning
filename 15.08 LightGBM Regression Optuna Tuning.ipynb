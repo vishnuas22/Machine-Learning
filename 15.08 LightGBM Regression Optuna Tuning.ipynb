{
 "cells": [
  {
   "cell_type": "code",
   "execution_count": 15,
   "metadata": {},
   "outputs": [],
   "source": [
    "import optuna\n",
    "\n",
    "import lightgbm as lgb\n",
    "\n",
    "from sklearn.datasets import make_regression\n",
    "\n",
    "from sklearn.model_selection import train_test_split\n",
    "\n",
    "from sklearn.metrics import mean_squared_error"
   ]
  },
  {
   "cell_type": "code",
   "execution_count": 16,
   "metadata": {},
   "outputs": [],
   "source": [
    "# Generate sample regression data\n",
    "\n",
    "X, y = make_regression(n_samples=1000, n_features=10, noise=0.1, random_state=42)"
   ]
  },
  {
   "cell_type": "code",
   "execution_count": 17,
   "metadata": {},
   "outputs": [],
   "source": [
    "# Split the dataset\n",
    "\n",
    "X_train, X_test, y_train, y_test = train_test_split(X, y, test_size=0.2, random_state=42)"
   ]
  },
  {
   "cell_type": "code",
   "execution_count": 18,
   "metadata": {},
   "outputs": [],
   "source": [
    "# Define Optuna objective function\n",
    "\n",
    "def objective(trial):\n",
    "\n",
    "    params = {\n",
    "\n",
    "    'learning_rate' :trial.suggest_float('learning_rate',0.01, 0.2),\n",
    "    'num_leaves' : trial.suggest_int( 'num_leaves', 20, 50),\n",
    "    'max_depth':trial.suggest_int('max_depth', 3,7),\n",
    "    'n_estimators':trial.suggest_int('n_estimators',50, 200),\n",
    "    \"force_col_wise\": True,  # Enforcing column-wise multi-threading\n",
    "    'verbose': -1\n",
    "\n",
    "    \n",
    "    }\n",
    "\n",
    "    model = lgb.LGBMRegressor(**params)\n",
    "\n",
    "    model.fit(X_train,y_train)\n",
    "\n",
    "    preds = model.predict(X_test)\n",
    "\n",
    "    return mean_squared_error(y_test, preds)\n"
   ]
  },
  {
   "cell_type": "code",
   "execution_count": 19,
   "metadata": {},
   "outputs": [
    {
     "name": "stderr",
     "output_type": "stream",
     "text": [
      "[I 2025-02-14 15:27:45,045] A new study created in memory with name: no-name-9eb51c7b-a609-4d11-afd3-d04518564691\n",
      "[I 2025-02-14 15:27:45,256] Trial 0 finished with value: 795.8015826516618 and parameters: {'learning_rate': 0.16987211728639523, 'num_leaves': 38, 'max_depth': 4, 'n_estimators': 133}. Best is trial 0 with value: 795.8015826516618.\n",
      "[I 2025-02-14 15:27:45,486] Trial 1 finished with value: 978.4700564936743 and parameters: {'learning_rate': 0.1630323263428925, 'num_leaves': 26, 'max_depth': 5, 'n_estimators': 121}. Best is trial 0 with value: 795.8015826516618.\n",
      "[I 2025-02-14 15:27:45,797] Trial 2 finished with value: 907.1245027348142 and parameters: {'learning_rate': 0.1754624144656909, 'num_leaves': 43, 'max_depth': 5, 'n_estimators': 165}. Best is trial 0 with value: 795.8015826516618.\n",
      "[I 2025-02-14 15:27:46,069] Trial 3 finished with value: 875.8505060737612 and parameters: {'learning_rate': 0.1047660016765698, 'num_leaves': 27, 'max_depth': 5, 'n_estimators': 138}. Best is trial 0 with value: 795.8015826516618.\n",
      "[I 2025-02-14 15:27:46,269] Trial 4 finished with value: 993.0845337503723 and parameters: {'learning_rate': 0.13357813997765264, 'num_leaves': 38, 'max_depth': 7, 'n_estimators': 64}. Best is trial 0 with value: 795.8015826516618.\n",
      "[I 2025-02-14 15:27:46,783] Trial 5 finished with value: 900.5856360573761 and parameters: {'learning_rate': 0.105790280769865, 'num_leaves': 29, 'max_depth': 7, 'n_estimators': 178}. Best is trial 0 with value: 795.8015826516618.\n",
      "[I 2025-02-14 15:27:46,972] Trial 6 finished with value: 854.8463400176319 and parameters: {'learning_rate': 0.11061950250310688, 'num_leaves': 47, 'max_depth': 4, 'n_estimators': 132}. Best is trial 0 with value: 795.8015826516618.\n",
      "[I 2025-02-14 15:27:47,198] Trial 7 finished with value: 948.4205940948948 and parameters: {'learning_rate': 0.16423092873684403, 'num_leaves': 36, 'max_depth': 7, 'n_estimators': 76}. Best is trial 0 with value: 795.8015826516618.\n",
      "[I 2025-02-14 15:27:47,337] Trial 8 finished with value: 1885.9865546423237 and parameters: {'learning_rate': 0.08195488678715196, 'num_leaves': 25, 'max_depth': 5, 'n_estimators': 56}. Best is trial 0 with value: 795.8015826516618.\n",
      "[I 2025-02-14 15:27:47,502] Trial 9 finished with value: 1900.8471453756124 and parameters: {'learning_rate': 0.03833145086573564, 'num_leaves': 26, 'max_depth': 3, 'n_estimators': 157}. Best is trial 0 with value: 795.8015826516618.\n",
      "[I 2025-02-14 15:27:47,731] Trial 10 finished with value: 4502.028240915447 and parameters: {'learning_rate': 0.01291974631967839, 'num_leaves': 49, 'max_depth': 3, 'n_estimators': 198}. Best is trial 0 with value: 795.8015826516618.\n",
      "[I 2025-02-14 15:27:47,905] Trial 11 finished with value: 870.7590181231983 and parameters: {'learning_rate': 0.13738293029039864, 'num_leaves': 48, 'max_depth': 4, 'n_estimators': 107}. Best is trial 0 with value: 795.8015826516618.\n",
      "[I 2025-02-14 15:27:48,064] Trial 12 finished with value: 1061.3336046509926 and parameters: {'learning_rate': 0.19911495257145942, 'num_leaves': 42, 'max_depth': 4, 'n_estimators': 99}. Best is trial 0 with value: 795.8015826516618.\n",
      "[I 2025-02-14 15:27:48,295] Trial 13 finished with value: 1012.3288580834347 and parameters: {'learning_rate': 0.07206201412280469, 'num_leaves': 32, 'max_depth': 4, 'n_estimators': 137}. Best is trial 0 with value: 795.8015826516618.\n",
      "[I 2025-02-14 15:27:48,541] Trial 14 finished with value: 924.153576857523 and parameters: {'learning_rate': 0.1350299749417055, 'num_leaves': 43, 'max_depth': 6, 'n_estimators': 92}. Best is trial 0 with value: 795.8015826516618.\n",
      "[I 2025-02-14 15:27:48,739] Trial 15 finished with value: 973.2686596196985 and parameters: {'learning_rate': 0.1062466094837218, 'num_leaves': 20, 'max_depth': 4, 'n_estimators': 131}. Best is trial 0 with value: 795.8015826516618.\n",
      "[I 2025-02-14 15:27:48,891] Trial 16 finished with value: 720.2800759160662 and parameters: {'learning_rate': 0.1918264032284216, 'num_leaves': 39, 'max_depth': 3, 'n_estimators': 154}. Best is trial 16 with value: 720.2800759160662.\n",
      "[I 2025-02-14 15:27:49,043] Trial 17 finished with value: 817.7188781199936 and parameters: {'learning_rate': 0.19616459092751934, 'num_leaves': 39, 'max_depth': 3, 'n_estimators': 156}. Best is trial 16 with value: 720.2800759160662.\n",
      "[I 2025-02-14 15:27:49,221] Trial 18 finished with value: 661.7610566056676 and parameters: {'learning_rate': 0.17067677967957348, 'num_leaves': 32, 'max_depth': 3, 'n_estimators': 179}. Best is trial 18 with value: 661.7610566056676.\n",
      "[I 2025-02-14 15:27:49,405] Trial 19 finished with value: 777.3720674789589 and parameters: {'learning_rate': 0.18322587974704516, 'num_leaves': 33, 'max_depth': 3, 'n_estimators': 192}. Best is trial 18 with value: 661.7610566056676.\n"
     ]
    }
   ],
   "source": [
    "# Run Optuna optimization\n",
    "\n",
    "study = optuna.create_study(direction='minimize')\n",
    "\n",
    "study.optimize(objective, n_trials=20)"
   ]
  },
  {
   "cell_type": "code",
   "execution_count": 20,
   "metadata": {},
   "outputs": [
    {
     "name": "stdout",
     "output_type": "stream",
     "text": [
      "Best Parameters : {'learning_rate': 0.17067677967957348, 'num_leaves': 32, 'max_depth': 3, 'n_estimators': 179}\n"
     ]
    }
   ],
   "source": [
    "# Get best parameters\n",
    "\n",
    "print(f'Best Parameters : {study.best_params}')"
   ]
  },
  {
   "cell_type": "code",
   "execution_count": 21,
   "metadata": {},
   "outputs": [
    {
     "name": "stdout",
     "output_type": "stream",
     "text": [
      "Final Model MSE : 661.7610566056676\n"
     ]
    }
   ],
   "source": [
    "# Get best parameters\n",
    "\n",
    "best_params = study.best_params\n",
    "\n",
    "final_model = lgb.LGBMRegressor(**best_params)\n",
    "\n",
    "final_model.fit(X_train,y_train)\n",
    "\n",
    "y_pred = final_model.predict(X_test)\n",
    "\n",
    "print(f'Final Model MSE : {mean_squared_error(y_test, y_pred)}')\n"
   ]
  }
 ],
 "metadata": {
  "kernelspec": {
   "display_name": "masterxml",
   "language": "python",
   "name": "python3"
  },
  "language_info": {
   "codemirror_mode": {
    "name": "ipython",
    "version": 3
   },
   "file_extension": ".py",
   "mimetype": "text/x-python",
   "name": "python",
   "nbconvert_exporter": "python",
   "pygments_lexer": "ipython3",
   "version": "3.10.16"
  }
 },
 "nbformat": 4,
 "nbformat_minor": 2
}
