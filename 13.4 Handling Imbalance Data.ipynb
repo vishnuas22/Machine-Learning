{
 "cells": [
  {
   "cell_type": "markdown",
   "metadata": {},
   "source": [
    "Imbalanced datasets (e.g., fraud detection, rare diseases) cause poor generalization because the model favors the majority class.\n",
    "🔹 How to fix this?\n",
    "Adjust scale_pos_weight → Helps balance class weights.\n",
    "Use Sampling Techniques\n",
    "Oversampling (e.g., SMOTE) → Generate synthetic minority samples.\n",
    "Undersampling → Remove some majority class samples."
   ]
  },
  {
   "cell_type": "code",
   "execution_count": 1,
   "metadata": {},
   "outputs": [],
   "source": [
    "from xgboost import XGBClassifier\n",
    "\n",
    "from sklearn.utils.class_weight import compute_sample_weight"
   ]
  },
  {
   "cell_type": "code",
   "execution_count": 2,
   "metadata": {},
   "outputs": [],
   "source": [
    "# Assume y is imbalanced (90% class 0, 10% class 1)\n",
    "\n",
    "# scale_pos_weight = sum(y==0) / sum(y==1)"
   ]
  },
  {
   "cell_type": "code",
   "execution_count": 3,
   "metadata": {},
   "outputs": [],
   "source": [
    "# Train XGBoost with class balancing\n",
    "\n",
    "# xgb_model = XGBClassifier(scale_pos_weight=scale_pos_weight, use_label_encoder=False, eval_metric='logloss')\n",
    "\n",
    "# xgb_model.fit(X, y)"
   ]
  },
  {
   "cell_type": "markdown",
   "metadata": {},
   "source": [
    "📌 Key Takeaways:\n",
    "✅ scale_pos_weight = count(negative) / count(positive) for imbalanced datasets.\n",
    "✅ Consider oversampling (SMOTE) or undersampling for severe imbalance."
   ]
  }
 ],
 "metadata": {
  "kernelspec": {
   "display_name": "masterxml",
   "language": "python",
   "name": "python3"
  },
  "language_info": {
   "codemirror_mode": {
    "name": "ipython",
    "version": 3
   },
   "file_extension": ".py",
   "mimetype": "text/x-python",
   "name": "python",
   "nbconvert_exporter": "python",
   "pygments_lexer": "ipython3",
   "version": "3.10.16"
  }
 },
 "nbformat": 4,
 "nbformat_minor": 2
}
