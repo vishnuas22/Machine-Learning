{
 "cells": [
  {
   "cell_type": "markdown",
   "metadata": {},
   "source": [
    "Why MLPs?\n",
    "\n",
    "A single-layer perceptron can only learn linearly separable problems (like AND, OR), but it fails on XOR because XOR is not linearly separable.\n",
    "\n",
    " MLPs solve this by introducing hidden layers!\n",
    "\n",
    "🧠 What is an MLP?\n",
    "\n",
    "Multiple layers of neurons (Input → Hidden → Output).\n",
    "\n",
    "Each neuron applies a weighted sum + activation function.\n",
    "\n",
    "Can learn non-linear decision boundaries."
   ]
  },
  {
   "cell_type": "markdown",
   "metadata": {},
   "source": [
    "Structure of an MLP\n",
    "\n",
    "Input Layer: Takes input features (like [x1, x2]).\n",
    "\n",
    "Hidden Layers: Multiple neurons that learn patterns.\n",
    "\n",
    "Output Layer: Produces final predictions.\n",
    "\n",
    "Each neuron applies:\n",
    "\n",
    "Output=f(WX+b)\n",
    "\n",
    "where W is weights, X is input, b is bias, and f is an activation function (like ReLU, Sigmoid)."
   ]
  },
  {
   "cell_type": "markdown",
   "metadata": {},
   "source": [
    " Steps to Implement MLP for XOR\n",
    "\n",
    "Define the dataset (XOR inputs & outputs).\n",
    "\n",
    "Build a neural network (MLP) with hidden layers.\n",
    "\n",
    "Choose activation functions (ReLU for hidden, Sigmoid for output).\n",
    "\n",
    "Train the model using Binary Cross-Entropy Loss.\n",
    "\n",
    "Test the trained model."
   ]
  },
  {
   "cell_type": "code",
   "execution_count": 175,
   "metadata": {},
   "outputs": [],
   "source": [
    "import torch\n",
    "\n",
    "import torch.nn as nn\n",
    "\n",
    "import torch.optim as optim\n",
    "\n",
    "import matplotlib.pyplot as plt"
   ]
  },
  {
   "cell_type": "markdown",
   "metadata": {},
   "source": [
    "Step 2: Define XOR Dataset"
   ]
  },
  {
   "cell_type": "code",
   "execution_count": 176,
   "metadata": {},
   "outputs": [],
   "source": [
    "# XOR input data\n",
    "\n",
    "X = torch.tensor([[0,0],[0,1],[1,0],[1,1]], dtype=torch.float32)\n",
    "\n",
    "y = torch.tensor([[0],[1],[1],[0]], dtype=torch.float32)"
   ]
  },
  {
   "cell_type": "markdown",
   "metadata": {},
   "source": [
    "Step 3: Define MLP Model"
   ]
  },
  {
   "cell_type": "code",
   "execution_count": 177,
   "metadata": {},
   "outputs": [],
   "source": [
    "class MLP_XOR(nn.Module):\n",
    "\n",
    "    def __init__(self):\n",
    "\n",
    "        super(MLP_XOR, self).__init__()\n",
    "\n",
    "        self.hidden = nn.Linear(2,4) # Hidden layer (2 inputs → 4 neurons)\n",
    "\n",
    "        self.output = nn.Linear(4,1) # Output layer (4 neurons → 1 output)\n",
    "\n",
    "\n",
    "    def forward(self,x):\n",
    "\n",
    "        x = torch.relu(self.hidden(x)) # ReLU Activation\n",
    "\n",
    "        x = torch.sigmoid(self.output(x)) # Sigmoid Activation\n",
    "\n",
    "        return x"
   ]
  },
  {
   "cell_type": "markdown",
   "metadata": {},
   "source": [
    "Step 4: Initialize Model, Loss, Optimizer"
   ]
  },
  {
   "cell_type": "code",
   "execution_count": 178,
   "metadata": {},
   "outputs": [],
   "source": [
    "model = MLP_XOR()\n",
    "\n",
    "criterion = nn.BCELoss() # Binary Cross-Entropy Loss\n",
    "\n",
    "optimizer = optim.SGD(model.parameters(), lr=0.1)"
   ]
  },
  {
   "cell_type": "markdown",
   "metadata": {},
   "source": [
    "Step 5: Train the Model"
   ]
  },
  {
   "cell_type": "code",
   "execution_count": 179,
   "metadata": {},
   "outputs": [
    {
     "name": "stdout",
     "output_type": "stream",
     "text": [
      "Epoch 0/1000, Loss : 0.6930\n",
      "Epoch 100/1000, Loss : 0.6220\n",
      "Epoch 200/1000, Loss : 0.5416\n",
      "Epoch 300/1000, Loss : 0.4495\n",
      "Epoch 400/1000, Loss : 0.3295\n",
      "Epoch 500/1000, Loss : 0.1890\n",
      "Epoch 600/1000, Loss : 0.1052\n",
      "Epoch 700/1000, Loss : 0.0638\n",
      "Epoch 800/1000, Loss : 0.0429\n",
      "Epoch 900/1000, Loss : 0.0319\n"
     ]
    }
   ],
   "source": [
    "epochs = 1000\n",
    "\n",
    "loss_values = []\n",
    "\n",
    "for epoch in range(epochs):\n",
    "\n",
    "    optimizer.zero_grad() # Clear gradients\n",
    "\n",
    "    outputs = model(X) # Forward Pass\n",
    "\n",
    "    loss = criterion(outputs, y) # Compute loss\n",
    "\n",
    "    loss.backward()  # Backpropagation\n",
    "\n",
    "    optimizer.step() # Update weights\n",
    "\n",
    "    loss_values.append(loss.item())\n",
    "\n",
    "\n",
    "\n",
    "    if epoch % 100 == 0:\n",
    "\n",
    "        print(f'Epoch {epoch}/{epochs}, Loss : {loss.item():.4f}')"
   ]
  },
  {
   "cell_type": "code",
   "execution_count": 180,
   "metadata": {},
   "outputs": [
    {
     "data": {
      "image/png": "[encoded data removed]",
      "text/plain": [
       "<Figure size 640x480 with 1 Axes>"
      ]
     },
     "metadata": {},
     "output_type": "display_data"
    }
   ],
   "source": [
    "# Plot Loss Curve\n",
    "plt.plot(loss_values)\n",
    "plt.xlabel('Epochs')\n",
    "plt.ylabel('Loss')\n",
    "plt.title('Loss Curve for XOR MLP')\n",
    "plt.show()\n"
   ]
  },
  {
   "cell_type": "markdown",
   "metadata": {},
   "source": [
    "Step 6: Test the Model"
   ]
  },
  {
   "cell_type": "code",
   "execution_count": null,
   "metadata": {},
   "outputs": [],
   "source": []
  },
  {
   "cell_type": "code",
   "execution_count": 181,
   "metadata": {},
   "outputs": [
    {
     "name": "stdout",
     "output_type": "stream",
     "text": [
      "Raw Model Outputs: [[0.029116233810782433], [0.9721524119377136], [0.977391242980957], [0.01845478266477585]]\n",
      "\n",
      "Input [0, 0] → Prediction: 0\n",
      "\n",
      "Input [0, 1] → Prediction: 1\n",
      "\n",
      "Input [1, 0] → Prediction: 1\n",
      "\n",
      "Input [1, 1] → Prediction: 0\n"
     ]
    }
   ],
   "source": [
    "with torch.no_grad():\n",
    "\n",
    "    predictions = model(X)\n",
    "\n",
    "    print(\"Raw Model Outputs:\", predictions.tolist())\n",
    "\n",
    "    predictions = (predictions > 0.5).int() # Convert to 0 or 1\n",
    "\n",
    "\n",
    "    for i in range(len(X)):\n",
    "        input_values = [int(val) for val in X[i].tolist()]  # Convert floats to integers\n",
    "        print(f\"\\nInput {input_values} → Prediction: {int(predictions[i].item())}\")\n",
    "\n"
   ]
  }
 ],
 "metadata": {
  "kernelspec": {
   "display_name": "masterxdl",
   "language": "python",
   "name": "python3"
  },
  "language_info": {
   "codemirror_mode": {
    "name": "ipython",
    "version": 3
   },
   "file_extension": ".py",
   "mimetype": "text/x-python",
   "name": "python",
   "nbconvert_exporter": "python",
   "pygments_lexer": "ipython3",
   "version": "3.9.21"
  }
 },
 "nbformat": 4,
 "nbformat_minor": 2
}
