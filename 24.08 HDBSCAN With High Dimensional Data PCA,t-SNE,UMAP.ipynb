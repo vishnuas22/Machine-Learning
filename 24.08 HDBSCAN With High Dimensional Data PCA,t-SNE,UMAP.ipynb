{
 "cells": [
  {
   "cell_type": "markdown",
   "metadata": {},
   "source": [
    "HDBSCAN struggles in high-dimensional datasets, so we first reduce dimensions using:\n",
    "\n",
    "PCA (Principal Component Analysis) → Linear feature reduction\n",
    "\n",
    "t-SNE (t-distributed Stochastic Neighbor Embedding) → Preserves cluster structure\n",
    "\n",
    "UMAP (Uniform Manifold Approximation and Projection) → Better for large datasets\n",
    "\n",
    "We'll test this on the Fashion-MNIST dataset (a high-dimensional image dataset)."
   ]
  },
  {
   "cell_type": "code",
   "execution_count": 2,
   "metadata": {},
   "outputs": [],
   "source": [
    "from tensorflow.keras.datasets import fashion_mnist\n",
    "\n",
    "from sklearn.decomposition import PCA\n",
    "\n",
    "from sklearn.manifold import TSNE\n",
    "\n",
    "import umap"
   ]
  },
  {
   "cell_type": "code",
   "execution_count": null,
   "metadata": {},
   "outputs": [],
   "source": [
    "# Load dataset\n",
    "\n",
    "(X_train, y_train) ,(_, _) = fashion_mnist.load_data() "
   ]
  },
  {
   "cell_type": "code",
   "execution_count": null,
   "metadata": {},
   "outputs": [],
   "source": [
    "# Flatten images into vectors\n",
    "\n",
    "X_flat = X_train.reshape(X_train.shape[0], -1)\n",
    "\n",
    "# Normalize data\n",
    "\n",
    "X_flat = X_flat / 255.0"
   ]
  },
  {
   "cell_type": "markdown",
   "metadata": {},
   "source": [
    "Step 2: Apply PCA for Dimensionality Reduction"
   ]
  },
  {
   "cell_type": "code",
   "execution_count": null,
   "metadata": {},
   "outputs": [],
   "source": []
  }
 ],
 "metadata": {
  "kernelspec": {
   "display_name": "masterxml",
   "language": "python",
   "name": "python3"
  },
  "language_info": {
   "codemirror_mode": {
    "name": "ipython",
    "version": 3
   },
   "file_extension": ".py",
   "mimetype": "text/x-python",
   "name": "python",
   "nbconvert_exporter": "python",
   "pygments_lexer": "ipython3",
   "version": "3.10.16"
  }
 },
 "nbformat": 4,
 "nbformat_minor": 2
}
