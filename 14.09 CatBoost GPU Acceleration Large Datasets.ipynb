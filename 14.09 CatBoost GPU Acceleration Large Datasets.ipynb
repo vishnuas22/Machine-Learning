{
 "cells": [
  {
   "cell_type": "code",
   "execution_count": 16,
   "metadata": {},
   "outputs": [],
   "source": [
    "import time\n",
    "\n",
    "import numpy as np\n",
    "\n",
    "import pandas as pd\n",
    "\n",
    "from catboost import CatBoostClassifier\n",
    "\n",
    "from sklearn.datasets import make_classification\n",
    "\n",
    "from sklearn.model_selection import train_test_split\n",
    "\n",
    "from sklearn.metrics import accuracy_score"
   ]
  },
  {
   "cell_type": "code",
   "execution_count": 17,
   "metadata": {},
   "outputs": [],
   "source": [
    "# Generate a large synthetic dataset\n",
    "\n",
    "X,y  = make_classification(\n",
    "\n",
    "    n_samples=100000,\n",
    "    n_features=20,\n",
    "    random_state=42\n",
    ")"
   ]
  },
  {
   "cell_type": "code",
   "execution_count": 18,
   "metadata": {},
   "outputs": [],
   "source": [
    "# Split the Data\n",
    "\n",
    "X_train, X_test, y_train, y_test = train_test_split(X,y, test_size=0.3, random_state=42)"
   ]
  },
  {
   "cell_type": "code",
   "execution_count": 19,
   "metadata": {},
   "outputs": [
    {
     "name": "stdout",
     "output_type": "stream",
     "text": [
      "0:\tlearn: 0.6830033\ttest: 0.6830379\tbest: 0.6830379 (0)\ttotal: 5.75ms\tremaining: 2.87s\n",
      "100:\tlearn: 0.3371647\ttest: 0.3391375\tbest: 0.3391375 (100)\ttotal: 634ms\tremaining: 2.5s\n",
      "200:\tlearn: 0.3013799\ttest: 0.3043372\tbest: 0.3043372 (200)\ttotal: 1.27s\tremaining: 1.89s\n",
      "300:\tlearn: 0.2937934\ttest: 0.2974295\tbest: 0.2974295 (300)\ttotal: 1.91s\tremaining: 1.26s\n",
      "400:\tlearn: 0.2914085\ttest: 0.2957016\tbest: 0.2956985 (398)\ttotal: 2.55s\tremaining: 630ms\n",
      "499:\tlearn: 0.2900212\ttest: 0.2952432\tbest: 0.2952409 (496)\ttotal: 3.19s\tremaining: 0us\n",
      "\n",
      "bestTest = 0.2952409361\n",
      "bestIteration = 496\n",
      "\n",
      "Shrink model to first 497 iterations.\n"
     ]
    }
   ],
   "source": [
    "# Initialize and train CatBoost on CPU\n",
    "\n",
    "cpu_model = CatBoostClassifier(\n",
    "    iterations=500, \n",
    "    depth=6,\n",
    "    learning_rate=0.01, \n",
    "    random_state=42,\n",
    "    verbose=100 )\n",
    "\n",
    "\n",
    "start_time = time.time()\n",
    "\n",
    "cpu_model.fit(X_train,y_train, eval_set=(X_test,y_test) , verbose=100)\n",
    "\n",
    "cpu_time = time.time() - start_time"
   ]
  },
  {
   "cell_type": "code",
   "execution_count": 20,
   "metadata": {},
   "outputs": [],
   "source": [
    "# Make predictions and evaluate\n",
    "\n",
    "cpu_preds = cpu_model.predict(X_test)\n",
    "\n",
    "cpu_acc = accuracy_score(y_test, cpu_preds)"
   ]
  },
  {
   "cell_type": "code",
   "execution_count": null,
   "metadata": {},
   "outputs": [],
   "source": [
    "# Initialize and train CatBoost on GPU\n",
    "\n",
    "gpu_model = CatBoostClassifier(\n",
    "    iterations=500, \n",
    "    depth=6,\n",
    "    learning_rate=0.01, \n",
    "    random_state=42,\n",
    "    verbose=100,\n",
    "    task_type='GPU',    \n",
    "    )\n",
    "\n",
    "\n",
    "start_time = time.time()\n",
    "\n",
    "gpu_model.fit(X_train,y_train, eval_set=(X_test,y_test) , verbose=100)\n",
    "\n",
    "gpu_time = time.time() - start_time"
   ]
  },
  {
   "cell_type": "code",
   "execution_count": null,
   "metadata": {},
   "outputs": [],
   "source": [
    "# Make predictions and evaluate\n",
    "\n",
    "gpu_preds = gpu_model.predict(X_test)\n",
    "\n",
    "gpu_acc = accuracy_score(y_test, gpu_preds)"
   ]
  },
  {
   "cell_type": "code",
   "execution_count": 21,
   "metadata": {},
   "outputs": [
    {
     "name": "stdout",
     "output_type": "stream",
     "text": [
      "CPU Accuracy: 0.8730, Training Time: 3.62 sec\n"
     ]
    }
   ],
   "source": [
    "# Compare results\n",
    "\n",
    "print(f\"CPU Accuracy: {cpu_acc:.4f}, Training Time: {cpu_time:.2f} sec\")\n"
   ]
  },
  {
   "cell_type": "code",
   "execution_count": null,
   "metadata": {},
   "outputs": [],
   "source": [
    "print(f\"GPU Accuracy: {gpu_acc:.4f}, Training Time: {gpu_time:.2f} sec\")"
   ]
  }
 ],
 "metadata": {
  "kernelspec": {
   "display_name": "masterxml",
   "language": "python",
   "name": "python3"
  },
  "language_info": {
   "codemirror_mode": {
    "name": "ipython",
    "version": 3
   },
   "file_extension": ".py",
   "mimetype": "text/x-python",
   "name": "python",
   "nbconvert_exporter": "python",
   "pygments_lexer": "ipython3",
   "version": "3.10.16"
  }
 },
 "nbformat": 4,
 "nbformat_minor": 2
}
