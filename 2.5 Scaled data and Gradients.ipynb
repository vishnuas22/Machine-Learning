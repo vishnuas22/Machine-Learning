{
 "cells": [
  {
   "cell_type": "code",
   "execution_count": 5,
   "metadata": {},
   "outputs": [
    {
     "name": "stdout",
     "output_type": "stream",
     "text": [
      "Epoch 0, Loss: 0.388894, w: 0.0700, b: 0.0900\n",
      "Epoch 100, Loss: 0.001599, w: 0.8962, b: 0.0582\n",
      "Epoch 200, Loss: 0.000031, w: 0.9855, b: 0.0081\n",
      "Epoch 300, Loss: 0.000001, w: 0.9980, b: 0.0011\n",
      "Epoch 400, Loss: 0.000000, w: 0.9997, b: 0.0002\n",
      "Epoch 500, Loss: 0.000000, w: 1.0000, b: 0.0000\n",
      "Epoch 600, Loss: 0.000000, w: 1.0000, b: 0.0000\n",
      "Epoch 700, Loss: 0.000000, w: 1.0000, b: 0.0000\n",
      "Epoch 800, Loss: 0.000000, w: 1.0000, b: 0.0000\n",
      "Epoch 900, Loss: 0.000000, w: 1.0000, b: 0.0000\n",
      "\n",
      "Training Complete\n",
      "Weight (w): 1.0000\n",
      "Bias (b): 0.0000\n"
     ]
    }
   ],
   "source": [
    "import numpy as np\n",
    "\n",
    "# Scaled input (X) and output (y)\n",
    "X = np.array([0.0, 0.3333, 0.6667, 1.0])\n",
    "y = np.array([0.0, 0.3333, 0.6667, 1.0])\n",
    "\n",
    "# Initialize parameters\n",
    "w = 0.0  # Weight (slope)\n",
    "b = 0.0  # Bias (intercept)\n",
    "learning_rate = 0.09\n",
    "epochs = 1000  # Number of iterations\n",
    "\n",
    "# Number of data points\n",
    "n = len(X)\n",
    "\n",
    "# Gradient Descent Loop\n",
    "for epoch in range(epochs):\n",
    "    # Calculate predictions\n",
    "    y_pred = w * X + b\n",
    "    \n",
    "    # Calculate the loss (Mean Squared Error)\n",
    "    loss = (1 / n) * np.sum((y - y_pred) ** 2)\n",
    "    \n",
    "    # Calculate gradients\n",
    "    dw = -(2 / n) * np.sum(X * (y - y_pred))  # Partial derivative w.r.t w\n",
    "    db = -(2 / n) * np.sum(y - y_pred)        # Partial derivative w.r.t b\n",
    "    \n",
    "    # Update parameters\n",
    "    w -= learning_rate * dw\n",
    "    b -= learning_rate * db\n",
    "    \n",
    "    # Print loss every 100 epochs\n",
    "    if epoch % 100 == 0:\n",
    "        print(f\"Epoch {epoch}, Loss: {loss:.6f}, w: {w:.4f}, b: {b:.4f}\")\n",
    "\n",
    "# Final results\n",
    "print(\"\\nTraining Complete\")\n",
    "print(f\"Weight (w): {w:.4f}\")\n",
    "print(f\"Bias (b): {b:.4f}\")\n"
   ]
  }
 ],
 "metadata": {
  "kernelspec": {
   "display_name": "masterxml",
   "language": "python",
   "name": "python3"
  },
  "language_info": {
   "codemirror_mode": {
    "name": "ipython",
    "version": 3
   },
   "file_extension": ".py",
   "mimetype": "text/x-python",
   "name": "python",
   "nbconvert_exporter": "python",
   "pygments_lexer": "ipython3",
   "version": "3.10.16"
  }
 },
 "nbformat": 4,
 "nbformat_minor": 2
}
